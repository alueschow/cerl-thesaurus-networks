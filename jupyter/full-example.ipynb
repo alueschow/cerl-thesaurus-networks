{
 "cells": [
  {
   "cell_type": "markdown",
   "id": "d3ad7c9c",
   "metadata": {},
   "source": [
    "# City Networks - Full example"
   ]
  },
  {
   "cell_type": "markdown",
   "id": "321ce439",
   "metadata": {},
   "source": [
    "This notebook presents a full example of constructing, analysing and visualising city data from the CERL Thesaurus -- starting from getting the data out of the database to plotting it on a HTML map that can easily be shared.\n",
    "\n",
    "Our goal is to create a map that shows places where people related to Göttingen were also active.\n",
    "\n",
    "Author: Andreas Lüschow\n",
    "\n",
    "Last updated: 2021/09/28"
   ]
  },
  {
   "cell_type": "markdown",
   "id": "dbff7337",
   "metadata": {},
   "source": [
    "-----"
   ]
  },
  {
   "cell_type": "markdown",
   "id": "7e0e74e9",
   "metadata": {},
   "source": [
    "## Part 1 - Querying the database"
   ]
  },
  {
   "cell_type": "markdown",
   "id": "2666af78",
   "metadata": {},
   "source": [
    "First of all, we have to import some python modules and packages to work with our data."
   ]
  },
  {
   "cell_type": "code",
   "execution_count": 1,
   "id": "19157622",
   "metadata": {},
   "outputs": [],
   "source": [
    "import json  # for reading/writing JSON data\n",
    "import os  # for file system manipulation (i.e., creating files etc.)\n",
    "\n",
    "from cerl import ample_query, ample_record, ids_from_result, by_dot, the  # CERL specific python library, see https://pypi.org/project/cerl/"
   ]
  },
  {
   "cell_type": "markdown",
   "id": "6177da3e",
   "metadata": {},
   "source": [
    "At the beginning of each python script, it's always a good idea to define variables that are used throughout the script. By this, we are able to find and change our parameters easily."
   ]
  },
  {
   "cell_type": "code",
   "execution_count": 2,
   "id": "adb3d2c7",
   "metadata": {},
   "outputs": [],
   "source": [
    "# the file path\n",
    "DOWNLOAD_PATH = \"./data/ct.json\"  # data from the CERL Thesaurus will be downloaded into this file\n",
    "\n",
    "# create the directory in the download path if it does not already exist\n",
    "if not os.path.exists(os.path.dirname(DOWNLOAD_PATH)):\n",
    "    os.makedirs(os.path.dirname(DOWNLOAD_PATH))\n",
    "    \n",
    "# the output data    \n",
    "download_data = {}  # a python dictionary that will contain the data we collect    \n",
    "\n",
    "# the database used\n",
    "DATABASE = 'data.cerl.org/thesaurus'\n",
    "\n",
    "# the search query used\n",
    "GOETTINGEN_ID = \"cnl00029316\"\n",
    "QUERY = f\"related_to:{GOETTINGEN_ID} AND type:cnp\"  # i.e., get people records related to Göttingen"
   ]
  },
  {
   "cell_type": "markdown",
   "id": "8f08c8c8",
   "metadata": {},
   "source": [
    "Next, we have to make a connection to the database, send a search query and handle the retrieved data sets afterwards. This may take a minute or two.\n",
    "\n",
    "__As the search query defined above shows, we are interested in people that were active in Göttingen. From these person records we will collect all information about places of activity. We will then construct a network of cities.__"
   ]
  },
  {
   "cell_type": "code",
   "execution_count": 3,
   "id": "a7ee3156",
   "metadata": {},
   "outputs": [],
   "source": [
    "# Connect to the CERL Thesaurus and run the search query\n",
    "result = ample_query(DATABASE, QUERY)"
   ]
  },
  {
   "cell_type": "code",
   "execution_count": 4,
   "id": "95dcbd85",
   "metadata": {},
   "outputs": [],
   "source": [
    "# iterate over the search results\n",
    "for idx in ids_from_result(result):\n",
    "    record = ample_record(DATABASE, idx)  # get the record as a python dictionary\n",
    "    cid = the(by_dot(record, '_id'))  # access the record by dot notation (see https://pypi.org/project/cerl/ for more explanation)\n",
    "    assert cid == idx  # just to make sure the correct record was downloaded\n",
    "\n",
    "    download_data[cid] = {\"515\": {\"a\": []}}  # add information about the record ID, the field and subfield to the output dictionary\n",
    "    download_data[cid][\"515\"][\"a\"].append(GOETTINGEN_ID)\n",
    "\n",
    "    # iterate over places in the record\n",
    "    for places in by_dot(record, \"data.place\"):\n",
    "        for place in places:\n",
    "            try:\n",
    "                type_place = place[\"typeOfPlace\"]  # try to get type of place\n",
    "                place_id = place[\"id\"]  # try to get place identifier\n",
    "                \n",
    "                # add combination of place type and ID to output dictionary\n",
    "                if type_place == \"actv\" and place_id is not None:\n",
    "                    download_data[cid][\"515\"][\"a\"].append(place_id)\n",
    "            except:\n",
    "                pass        \n",
    "\n",
    "    # if no place of activity was found, remove empty entries from the output dictionary\n",
    "    if len(download_data[cid][\"515\"][\"a\"]) == 0:\n",
    "        del download_data[cid]"
   ]
  },
  {
   "cell_type": "markdown",
   "id": "25ff0e2b",
   "metadata": {},
   "source": [
    "We can now save the data to a JSON file."
   ]
  },
  {
   "cell_type": "code",
   "execution_count": 5,
   "id": "3efd65eb",
   "metadata": {},
   "outputs": [],
   "source": [
    "with open(DOWNLOAD_PATH, \"w\", encoding=\"utf-8\") as f:\n",
    "    json.dump(download_data, f, indent=4)"
   ]
  },
  {
   "cell_type": "markdown",
   "id": "c535bfef",
   "metadata": {},
   "source": [
    "Let's have a look at a part of the data we just created."
   ]
  },
  {
   "cell_type": "code",
   "execution_count": 6,
   "id": "a72da2be",
   "metadata": {},
   "outputs": [
    {
     "name": "stdout",
     "output_type": "stream",
     "text": [
      "cnp01074965 {'515': {'a': ['cnl00029316', 'cnl00009244', 'cnl00029316', 'cnl00010570', 'cnl00006169', 'cnl00016122']}}\n",
      "cnp02240049 {'515': {'a': ['cnl00029316', 'cnl00016078', 'cnl00000707', 'cnl00016122']}}\n",
      "cnp02244016 {'515': {'a': ['cnl00029316']}}\n",
      "cnp01498318 {'515': {'a': ['cnl00029316', 'cnl00009564']}}\n",
      "cnp02317375 {'515': {'a': ['cnl00029316', 'cnl00029316', 'cnl00010570']}}\n"
     ]
    }
   ],
   "source": [
    "with open(DOWNLOAD_PATH, \"r\", encoding=\"utf-8\") as f:\n",
    "    data = json.load(f)\n",
    "    \n",
    "# show five entries from the data\n",
    "for x in list(data)[:5]:\n",
    "    print(x, data[x])"
   ]
  },
  {
   "cell_type": "markdown",
   "id": "c75a8998",
   "metadata": {},
   "source": [
    "-----"
   ]
  },
  {
   "cell_type": "markdown",
   "id": "1d86dc5f",
   "metadata": {},
   "source": [
    "## Part 2 - Creating an edge list"
   ]
  },
  {
   "cell_type": "markdown",
   "id": "c865e3b2",
   "metadata": {},
   "source": [
    "Next, we create a graph representation of our data, i.e., a format were nodes and edges are defined. We use the python library _Bibliometa_ to this end."
   ]
  },
  {
   "cell_type": "code",
   "execution_count": 7,
   "id": "f272e1fb",
   "metadata": {},
   "outputs": [],
   "source": [
    "import pandas as pd  # python library for handling tabular data\n",
    "\n",
    "from bibliometa.graph.conversion import JSON2EdgeList\n",
    "from bibliometa.graph.similarity import Similarity"
   ]
  },
  {
   "cell_type": "markdown",
   "id": "bcef1260",
   "metadata": {},
   "source": [
    "Let's define some paths were our input and output data will be located."
   ]
  },
  {
   "cell_type": "code",
   "execution_count": 8,
   "id": "8ca7b9fb",
   "metadata": {},
   "outputs": [],
   "source": [
    "SIMILARITY_PATH = \"./data/similarity.csv\"\n",
    "GRAPH_CORPUS_PATH = \"./data/graph_corpus.json\"\n",
    "LOG_PATH = \"./data/logs/j2e.log\""
   ]
  },
  {
   "cell_type": "markdown",
   "id": "bd4cea90",
   "metadata": {},
   "source": [
    "The Bibliometa class `JSON2EdgeList` needs some configuration to work properly."
   ]
  },
  {
   "cell_type": "code",
   "execution_count": 9,
   "id": "cafb1bff",
   "metadata": {},
   "outputs": [],
   "source": [
    "# fields from the input data that will be considered\n",
    "FIELDS = [(\"515\", \"a\")]\n",
    "\n",
    "# whether keys and values from the input data will be switched\n",
    "# since we downloaded person records but want to create a network of places, we set this parameter to True\n",
    "SWAP = True  \n",
    "\n",
    "# Similarity functions that will be used in graph creation.\n",
    "# Two nodes (i.e., cities) are only considered connected if their similarity is greater then zero.\n",
    "# See the Bibliometa documentation for more information about this.\n",
    "# The following similarity function will consider two cities connected, if they occur together in at least one person record.\n",
    "SIM_FUNCTIONS = [\n",
    "    {\"name\": \"mint_1\",\n",
    "     \"function\": Similarity.Functions.mint,\n",
    "     \"args\": {\n",
    "         \"f\": lambda a, b: len(list(a.intersection(b))),\n",
    "         \"t\": 1}\n",
    "     }\n",
    "]"
   ]
  },
  {
   "cell_type": "markdown",
   "id": "28e54acc",
   "metadata": {},
   "source": [
    "We can now run the JSON to edge list conversion."
   ]
  },
  {
   "cell_type": "code",
   "execution_count": 10,
   "id": "1a4d6433",
   "metadata": {},
   "outputs": [
    {
     "data": {
      "application/vnd.jupyter.widget-view+json": {
       "model_id": "a2b90a3e49744681b7c3df7a6007675e",
       "version_major": 2,
       "version_minor": 0
      },
      "text/plain": [
       "  0%|          | 0/540 [00:00<?, ?it/s]"
      ]
     },
     "metadata": {},
     "output_type": "display_data"
    },
    {
     "data": {
      "application/vnd.jupyter.widget-view+json": {
       "model_id": "4f558583ae104fa59cece6ec84b37f6f",
       "version_major": 2,
       "version_minor": 0
      },
      "text/plain": [
       "  0%|          | 0/14 [00:00<?, ?it/s]"
      ]
     },
     "metadata": {},
     "output_type": "display_data"
    }
   ],
   "source": [
    "j2e = JSON2EdgeList()\n",
    "\n",
    "j2e.set_config(i=DOWNLOAD_PATH,\n",
    "               o=SIMILARITY_PATH,\n",
    "               create_corpus=True,\n",
    "               corpus=GRAPH_CORPUS_PATH,\n",
    "               log=LOG_PATH,\n",
    "               fields=FIELDS,\n",
    "               sim_functions=SIM_FUNCTIONS,\n",
    "               swap=SWAP\n",
    "               )\n",
    "j2e.start()"
   ]
  },
  {
   "cell_type": "markdown",
   "id": "6f77cc6e",
   "metadata": {},
   "source": [
    "The edge list looks as follows. Column 1 and 2 contain the name of a node (i.e., place), column 3 contains the number of connections between these nodes."
   ]
  },
  {
   "cell_type": "code",
   "execution_count": 11,
   "id": "e53a0e3b",
   "metadata": {},
   "outputs": [
    {
     "data": {
      "text/html": [
       "<div>\n",
       "<style scoped>\n",
       "    .dataframe tbody tr th:only-of-type {\n",
       "        vertical-align: middle;\n",
       "    }\n",
       "\n",
       "    .dataframe tbody tr th {\n",
       "        vertical-align: top;\n",
       "    }\n",
       "\n",
       "    .dataframe thead th {\n",
       "        text-align: right;\n",
       "    }\n",
       "</style>\n",
       "<table border=\"1\" class=\"dataframe\">\n",
       "  <thead>\n",
       "    <tr style=\"text-align: right;\">\n",
       "      <th></th>\n",
       "      <th>1</th>\n",
       "      <th>2</th>\n",
       "      <th>3</th>\n",
       "    </tr>\n",
       "    <tr>\n",
       "      <th>0</th>\n",
       "      <th></th>\n",
       "      <th></th>\n",
       "      <th></th>\n",
       "    </tr>\n",
       "  </thead>\n",
       "  <tbody>\n",
       "    <tr>\n",
       "      <th>339</th>\n",
       "      <td>cnl00008232</td>\n",
       "      <td>cnl00009858</td>\n",
       "      <td>1</td>\n",
       "    </tr>\n",
       "    <tr>\n",
       "      <th>514</th>\n",
       "      <td>cnl00008232</td>\n",
       "      <td>cnl00029316</td>\n",
       "      <td>1</td>\n",
       "    </tr>\n",
       "    <tr>\n",
       "      <th>596</th>\n",
       "      <td>cnl00029794</td>\n",
       "      <td>cnl00015003</td>\n",
       "      <td>1</td>\n",
       "    </tr>\n",
       "    <tr>\n",
       "      <th>1052</th>\n",
       "      <td>cnl00029794</td>\n",
       "      <td>cnl00029316</td>\n",
       "      <td>1</td>\n",
       "    </tr>\n",
       "    <tr>\n",
       "      <th>1097</th>\n",
       "      <td>cnl00029167</td>\n",
       "      <td>cnl00033301</td>\n",
       "      <td>1</td>\n",
       "    </tr>\n",
       "    <tr>\n",
       "      <th>1111</th>\n",
       "      <td>cnl00029167</td>\n",
       "      <td>cnl00027430</td>\n",
       "      <td>1</td>\n",
       "    </tr>\n",
       "    <tr>\n",
       "      <th>1192</th>\n",
       "      <td>cnl00029167</td>\n",
       "      <td>cnl00016003</td>\n",
       "      <td>1</td>\n",
       "    </tr>\n",
       "    <tr>\n",
       "      <th>1260</th>\n",
       "      <td>cnl00029167</td>\n",
       "      <td>cnl00029175</td>\n",
       "      <td>1</td>\n",
       "    </tr>\n",
       "    <tr>\n",
       "      <th>1516</th>\n",
       "      <td>cnl00029167</td>\n",
       "      <td>cnl00032895</td>\n",
       "      <td>1</td>\n",
       "    </tr>\n",
       "    <tr>\n",
       "      <th>1589</th>\n",
       "      <td>cnl00029167</td>\n",
       "      <td>cnl00029316</td>\n",
       "      <td>1</td>\n",
       "    </tr>\n",
       "  </tbody>\n",
       "</table>\n",
       "</div>"
      ],
      "text/plain": [
       "                1            2  3\n",
       "0                                \n",
       "339   cnl00008232  cnl00009858  1\n",
       "514   cnl00008232  cnl00029316  1\n",
       "596   cnl00029794  cnl00015003  1\n",
       "1052  cnl00029794  cnl00029316  1\n",
       "1097  cnl00029167  cnl00033301  1\n",
       "1111  cnl00029167  cnl00027430  1\n",
       "1192  cnl00029167  cnl00016003  1\n",
       "1260  cnl00029167  cnl00029175  1\n",
       "1516  cnl00029167  cnl00032895  1\n",
       "1589  cnl00029167  cnl00029316  1"
      ]
     },
     "execution_count": 11,
     "metadata": {},
     "output_type": "execute_result"
    }
   ],
   "source": [
    "with open(SIMILARITY_PATH, \"r\", encoding=\"utf-8\") as f:\n",
    "    df = pd.read_csv(f, sep=\"\\t\", header=None, index_col=0)\n",
    "df[:10]"
   ]
  },
  {
   "cell_type": "markdown",
   "id": "78d0b673",
   "metadata": {},
   "source": [
    "-----"
   ]
  },
  {
   "cell_type": "markdown",
   "id": "ef1ba51d",
   "metadata": {},
   "source": [
    "## Part 3 - Graph Analysis"
   ]
  },
  {
   "cell_type": "markdown",
   "id": "e3fa8e72",
   "metadata": {},
   "source": [
    "Based on the edge list we can run some graph analysis algorithms. This will also create a graph representation in GraphML format which we will user later on."
   ]
  },
  {
   "cell_type": "code",
   "execution_count": 12,
   "id": "745cf0ae",
   "metadata": {},
   "outputs": [],
   "source": [
    "# imports\n",
    "from bibliometa.graph.analysis import GraphAnalysis"
   ]
  },
  {
   "cell_type": "code",
   "execution_count": 13,
   "id": "f6b3bd6b",
   "metadata": {},
   "outputs": [],
   "source": [
    "SIMILARITY_FILE = \"./data/similarity.tar.gz\"\n",
    "OUTPUT_FILE = \"./data/graph_analysis.txt\"\n",
    "IMG_FOLDER = \"./data/img/\"\n",
    "LOG_PATH = \"./data/logs/ga.log\"\n",
    "\n",
    "CREATE_GRAPHML = True\n",
    "GRAPHML_FILE = \"./data/graphml.graphml\"\n",
    "\n",
    "NODES = \"cities\"  # name for nodes\n",
    "EDGES = \"similarity\"  # name for edges\n",
    "SIMILARITY_FUNCTION = \"mint_1\"  # name of similarity function used in graph creation\n",
    "SIMILARITY_FUNCTIONS_ALL = [\"mint_1\"]  # list of available similarity functions (see previous conversion step from JSON to edge list)\n",
    "THRESHOLD = 0  # threshold of similarity function\n",
    "WEIGHTED = True  # whether similarity function is weighted\n",
    "\n",
    "# analyses that will be used\n",
    "TYPES = [\"node_count\",\n",
    "         \"edge_count\",\n",
    "         \"component_count\",\n",
    "         \"max_component\"]"
   ]
  },
  {
   "cell_type": "markdown",
   "id": "bc184964",
   "metadata": {},
   "source": [
    "Run the analysis."
   ]
  },
  {
   "cell_type": "code",
   "execution_count": 14,
   "id": "8c5d4577",
   "metadata": {},
   "outputs": [
    {
     "data": {
      "application/vnd.jupyter.widget-view+json": {
       "model_id": "d2ba6f705c414eb483b6b34929c3aa96",
       "version_major": 2,
       "version_minor": 0
      },
      "text/plain": [
       "  0%|          | 0/4 [00:00<?, ?it/s]"
      ]
     },
     "metadata": {},
     "output_type": "display_data"
    }
   ],
   "source": [
    "ga = GraphAnalysis()\n",
    "\n",
    "ga.set_config(i=SIMILARITY_FILE,\n",
    "              o=OUTPUT_FILE,\n",
    "              create_graphml=CREATE_GRAPHML,\n",
    "              graphml=GRAPHML_FILE,\n",
    "              img=IMG_FOLDER,\n",
    "              log=LOG_PATH,\n",
    "              n=NODES,\n",
    "              e=EDGES,\n",
    "              sim=SIMILARITY_FUNCTION,\n",
    "              sim_functions=SIMILARITY_FUNCTIONS_ALL,\n",
    "              t=THRESHOLD,\n",
    "              weighted=WEIGHTED,\n",
    "              types=TYPES\n",
    "              )\n",
    "ga.start()"
   ]
  },
  {
   "cell_type": "markdown",
   "id": "c52c3e45",
   "metadata": {},
   "source": [
    "-----"
   ]
  },
  {
   "cell_type": "markdown",
   "id": "2363c40d",
   "metadata": {},
   "source": [
    "## Part 4 - Network creation"
   ]
  },
  {
   "cell_type": "markdown",
   "id": "c8d9cb8e",
   "metadata": {},
   "source": [
    "With the GraphML file created in the previous step we now can draw a nice network of cities and their connections.\n"
   ]
  },
  {
   "cell_type": "code",
   "execution_count": 15,
   "id": "196d6ad5",
   "metadata": {},
   "outputs": [],
   "source": [
    "import networkx as nx  # a library for network modeling and analysis\n",
    "import osmnx as ox  # a library for more beautiful network visualisation"
   ]
  },
  {
   "cell_type": "markdown",
   "id": "bee628f8",
   "metadata": {},
   "source": [
    "At this point, we have to decide for which city want to draw the network. Since we downloaded data sets related to Göttingen, it's reasonable to draw a network around Göttingen."
   ]
  },
  {
   "cell_type": "code",
   "execution_count": 16,
   "id": "1ad06d5d",
   "metadata": {},
   "outputs": [],
   "source": [
    "COORDINATES = \"../data/lng_lat.csv\"  # path to a CSV file with longitude/latitude information \n",
    "KEYS_LABELS = (\"id\", \"city\")  # needed for parsing the coordinates file\n",
    "\n",
    "ego = GOETTINGEN_ID  # CERL Thesaurus ID for Göttingen \n",
    "EGO_DEPTH = 1  # degree of neighbor nodes considered in the network\n",
    "EGO_FILE = \"./data/ego.graphml\"  # a network centered around the \"ego\" city\n",
    "HTML_FILE = \"./data/network.html\"  # output HTML representation of the network\n",
    "\n",
    "CRS = \"epsg:4326\"  # coordinate reference system"
   ]
  },
  {
   "cell_type": "markdown",
   "id": "743253aa",
   "metadata": {},
   "source": [
    "The following code is a bit longer than in the previous steps, so we split it into three parts."
   ]
  },
  {
   "cell_type": "code",
   "execution_count": 17,
   "id": "fe5ae0b5",
   "metadata": {},
   "outputs": [],
   "source": [
    "# function for getting position of graph nodes\n",
    "def create_pos(graph, df, keys_labels):\n",
    "    pos = {}\n",
    "    for n in graph.nodes:\n",
    "        lat = df[df[keys_labels] == n][\"lat\"].to_string(index=False)\n",
    "        lng = df[df[keys_labels] == n][\"lng\"].to_string(index=False)\n",
    "        try:\n",
    "            pos[n] = [float(lng), float(lat)]\n",
    "        except:\n",
    "            pos[n] = [None, None]\n",
    "    return pos"
   ]
  },
  {
   "cell_type": "code",
   "execution_count": 18,
   "id": "901d77e9",
   "metadata": {},
   "outputs": [],
   "source": [
    "# read GraphML file\n",
    "g = nx.read_graphml(GRAPHML_FILE)\n",
    "\n",
    "# create ego network around ego node\n",
    "g = nx.ego_graph(g, ego, radius=EGO_DEPTH)\n",
    "\n",
    "# read coordinates\n",
    "df = pd.read_csv(COORDINATES, sep=\"\\t\")\n",
    "\n",
    "# create positions for nodes in the ego network\n",
    "pos = create_pos(g, df, KEYS_LABELS[0])\n",
    "\n",
    "# remove nodes without reasonable coordinate information\n",
    "for node, (x, y) in pos.items():\n",
    "    if x and y:\n",
    "        g.nodes[node]['x'] = float(x)\n",
    "        g.nodes[node]['y'] = float(y)\n",
    "    else:\n",
    "        g.remove_node(node)\n",
    "\n",
    "# save ego network as GraphML\n",
    "nx.write_graphml(g, EGO_FILE)"
   ]
  },
  {
   "cell_type": "code",
   "execution_count": 19,
   "id": "0833dc39",
   "metadata": {},
   "outputs": [],
   "source": [
    "import folium\n",
    "\n",
    "# create MultiDiGraph from ego network\n",
    "G = nx.MultiDiGraph(crs=CRS)\n",
    "for n in g.nodes:\n",
    "    G.add_node(n, x=g.nodes[n][\"x\"], y=g.nodes[n][\"y\"])\n",
    "\n",
    "for e in g.edges(data=True):\n",
    "    if ego in e:\n",
    "        G.add_edge(e[0], e[1], weight=e[2][\"weight\"])\n",
    "\n",
    "# remove nodes without edges\n",
    "G.remove_nodes_from(list(nx.isolates(G)))\n",
    "\n",
    "# plot ego network on map and save as HTML\n",
    "orange = \"#fe7830\"\n",
    "orange_2 = \"#fe7877\"\n",
    "green = \"green\"\n",
    "\n",
    "m = ox.folium.plot_graph_folium(G, color=orange, weight=0.7, opacity=0.7)\n",
    "factor = 250\n",
    "\n",
    "for n in G.nodes(data=True):\n",
    "    coords = [n[1][\"y\"], n[1][\"x\"]]  # city coordinates\n",
    "    if n[0] != ego:  # exclude ego node\n",
    "        tooltip = df[df[\"id\"] == n[0]][\"city\"].values[0]  # city name from coordinates table\n",
    "        radius = G.get_edge_data(ego, n[0], default=G.get_edge_data(n[0], ego))[0][\"weight\"] * factor\n",
    "        popup = f\"<strong>{tooltip}</strong><br>{int(radius/factor)} person(s)\"\n",
    "        folium.Circle(location=coords, radius=radius, popup=popup, fill=True, color=orange_2, \n",
    "                      fill_color=orange_2).add_to(m)\n",
    "    elif n[0] == ego:\n",
    "        tooltip = df[df[\"id\"] == ego][\"city\"].values[0]  # city name from coordinates table                \n",
    "        try:\n",
    "            radius = G.get_edge_data(ego, n[0], default=G.get_edge_data(n[0], ego))[0][\"weight\"] * factor\n",
    "            popup = f\"<strong>{tooltip}</strong><br>{int(radius/factor)} person(s)\"    \n",
    "        except:\n",
    "            popup = f\"<strong>{tooltip}</strong>\"    \n",
    "            radius = 1\n",
    "        folium.Circle(location=coords, radius=radius, popup=popup, fill=True, color=green, \n",
    "                      fill_color=green).add_to(m)\n",
    "\n",
    "\n",
    "html_file = f\"./data/{GOETTINGEN_ID}.html\"        \n",
    "m.save(html_file)"
   ]
  },
  {
   "cell_type": "markdown",
   "id": "23ca9be0",
   "metadata": {},
   "source": [
    "Opening the created HTML file with a Browser, we can see the network of people related to Göttingen and the places these people were also active."
   ]
  },
  {
   "cell_type": "markdown",
   "id": "7d941a9f",
   "metadata": {},
   "source": [
    "## Concluding remarks"
   ]
  },
  {
   "cell_type": "markdown",
   "id": "0b6729e9",
   "metadata": {},
   "source": [
    "The workflow presented above can be adjusted in many ways.\n",
    "\n",
    "For example, we could take other definitions of \"relatedness\" into account. The workflow above queries the CERL Thesaurus for data from people related to Göttingen and their places of activity. Instead of looking at places of activity, we could just as well look at places of birth or death. By this, we would be able to visualize those places people that were active in Göttingen went to or came from.\n",
    "\n",
    "Likewise, we could run the scripts for a number of cities, not only Göttingen, to allow for a comparison of different networks. We could also create networks for certain time periods by taking only those people records into account with activity/birth/death dates in a certain interval."
   ]
  },
  {
   "cell_type": "markdown",
   "id": "5c163b8e",
   "metadata": {},
   "source": [
    "-----"
   ]
  }
 ],
 "metadata": {
  "kernelspec": {
   "display_name": "Python 3 (ipykernel)",
   "language": "python",
   "name": "python3"
  },
  "language_info": {
   "codemirror_mode": {
    "name": "ipython",
    "version": 3
   },
   "file_extension": ".py",
   "mimetype": "text/x-python",
   "name": "python",
   "nbconvert_exporter": "python",
   "pygments_lexer": "ipython3",
   "version": "3.8.10"
  }
 },
 "nbformat": 4,
 "nbformat_minor": 5
}
