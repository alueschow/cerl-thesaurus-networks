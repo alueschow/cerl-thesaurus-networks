{
 "cells": [
  {
   "cell_type": "markdown",
   "id": "a2c0afd0",
   "metadata": {},
   "source": [
    "# Tutorial: JSON2EdgeList"
   ]
  },
  {
   "cell_type": "markdown",
   "id": "e3cbccf0",
   "metadata": {},
   "source": [
    "The _JSON2EdgeList_ class is used to transform data from JSON files to an edge list graph representation by using similarity functions.\n",
    "\n",
    "Author: Andreas Lüschow\n",
    "\n",
    "Last updated: 2021/07/28"
   ]
  },
  {
   "cell_type": "markdown",
   "id": "d7507df1",
   "metadata": {},
   "source": [
    "-----"
   ]
  },
  {
   "cell_type": "markdown",
   "id": "482b6d00",
   "metadata": {},
   "source": [
    "## Import"
   ]
  },
  {
   "cell_type": "markdown",
   "id": "d6e25f7a",
   "metadata": {},
   "source": [
    "Import the appropriate class from __Bibliometa__'s _graph_ module:"
   ]
  },
  {
   "cell_type": "code",
   "execution_count": 1,
   "id": "b15bfece",
   "metadata": {},
   "outputs": [],
   "source": [
    "from bibliometa.graph.conversion import JSON2EdgeList"
   ]
  },
  {
   "cell_type": "markdown",
   "id": "4549ac97",
   "metadata": {},
   "source": [
    "As you can see from the following output, the _JSON2EdgeList_ class has a lot of built-in functions:"
   ]
  },
  {
   "cell_type": "code",
   "execution_count": 2,
   "id": "8343d7b6",
   "metadata": {},
   "outputs": [
    {
     "data": {
      "text/plain": [
       "['__abstractmethods__',\n",
       " '__class__',\n",
       " '__delattr__',\n",
       " '__dict__',\n",
       " '__dir__',\n",
       " '__doc__',\n",
       " '__eq__',\n",
       " '__format__',\n",
       " '__ge__',\n",
       " '__getattribute__',\n",
       " '__gt__',\n",
       " '__hash__',\n",
       " '__init__',\n",
       " '__init_subclass__',\n",
       " '__le__',\n",
       " '__lt__',\n",
       " '__module__',\n",
       " '__ne__',\n",
       " '__new__',\n",
       " '__reduce__',\n",
       " '__reduce_ex__',\n",
       " '__repr__',\n",
       " '__setattr__',\n",
       " '__sizeof__',\n",
       " '__slots__',\n",
       " '__str__',\n",
       " '__subclasshook__',\n",
       " '__weakref__',\n",
       " '_abc_impl',\n",
       " 'get_config',\n",
       " 'set_config',\n",
       " 'start']"
      ]
     },
     "execution_count": 2,
     "metadata": {},
     "output_type": "execute_result"
    }
   ],
   "source": [
    "dir(JSON2EdgeList)"
   ]
  },
  {
   "cell_type": "markdown",
   "id": "ac22366d",
   "metadata": {},
   "source": [
    "We are only interested in the public methods, so let's have a look at them:"
   ]
  },
  {
   "cell_type": "code",
   "execution_count": 3,
   "id": "d6d8dbb6",
   "metadata": {},
   "outputs": [
    {
     "data": {
      "text/plain": [
       "['get_config', 'set_config', 'start']"
      ]
     },
     "execution_count": 3,
     "metadata": {},
     "output_type": "execute_result"
    }
   ],
   "source": [
    "[m for m in dir(JSON2EdgeList) if not m.startswith('_')]"
   ]
  },
  {
   "cell_type": "markdown",
   "id": "b2489922",
   "metadata": {},
   "source": [
    "The usage of _JSON2EdgeList_ class is quite simple: There are two methods to work with the class configuration, and only one method to actually start the conversion process."
   ]
  },
  {
   "cell_type": "markdown",
   "id": "b9bdd67b",
   "metadata": {},
   "source": [
    "-----"
   ]
  },
  {
   "cell_type": "markdown",
   "id": "17b2bb08",
   "metadata": {},
   "source": [
    "## Configuration"
   ]
  },
  {
   "cell_type": "markdown",
   "id": "bb21f0d9",
   "metadata": {},
   "source": [
    "Most __Bibliometa__ classes come with already predefined configuration for their class attributes. In this case, you can see the default configuration using the _get_config()_ function on a new _JSON2EdgeList_ object. So let's create an object first:"
   ]
  },
  {
   "cell_type": "code",
   "execution_count": 4,
   "id": "cd5d10c3",
   "metadata": {},
   "outputs": [],
   "source": [
    "j2e = JSON2EdgeList()"
   ]
  },
  {
   "cell_type": "markdown",
   "id": "6d1fdf42",
   "metadata": {},
   "source": [
    "### Input, output, graph corpus"
   ]
  },
  {
   "cell_type": "markdown",
   "id": "366e1455",
   "metadata": {},
   "source": [
    "And now let's have a look at the default configuration values:"
   ]
  },
  {
   "cell_type": "code",
   "execution_count": 5,
   "id": "e371dec0",
   "metadata": {},
   "outputs": [
    {
     "data": {
      "text/plain": [
       "('i', None)\n",
       "('o', None)\n",
       "('create_corpus', False)\n",
       "('corpus', None)\n",
       "('name', '')\n",
       "('fields', None)\n",
       "('swap', False)\n",
       "('sim_functions', None)\n",
       "('archive', True)\n",
       "('archive_ext', '.tar.gz')\n",
       "('csv_sep', '\\t')\n",
       "('log', None)\n",
       "('log_level_std', 'INFO')\n",
       "('log_level_file', 'DEBUG')\n",
       "('verbose', False)\n",
       "('encoding', 'utf-8')"
      ]
     },
     "execution_count": 5,
     "metadata": {},
     "output_type": "execute_result"
    }
   ],
   "source": [
    "j2e.get_config()"
   ]
  },
  {
   "cell_type": "markdown",
   "id": "775dd64e",
   "metadata": {},
   "source": [
    "As a shortcut, you can also simply print out the object itself which will return a representation of the configuration values:"
   ]
  },
  {
   "cell_type": "code",
   "execution_count": 6,
   "id": "6e892bde",
   "metadata": {},
   "outputs": [
    {
     "data": {
      "text/plain": [
       "('i', None)\n",
       "('o', None)\n",
       "('create_corpus', False)\n",
       "('corpus', None)\n",
       "('name', '')\n",
       "('fields', None)\n",
       "('swap', False)\n",
       "('sim_functions', None)\n",
       "('archive', True)\n",
       "('archive_ext', '.tar.gz')\n",
       "('csv_sep', '\\t')\n",
       "('log', None)\n",
       "('log_level_std', 'INFO')\n",
       "('log_level_file', 'DEBUG')\n",
       "('verbose', False)\n",
       "('encoding', 'utf-8')"
      ]
     },
     "execution_count": 6,
     "metadata": {},
     "output_type": "execute_result"
    }
   ],
   "source": [
    "j2e"
   ]
  },
  {
   "cell_type": "markdown",
   "id": "95309df0",
   "metadata": {},
   "source": [
    "There are a lot of configuration options, let's go through them step by step.\n",
    "\n",
    "__i__ (str): Input JSON file\n",
    "* Path to the JSON file that will be converted to an edge list.\n",
    "\n",
    "__o__ (str): Output similarity file\n",
    "* Path to the CSV file that will be created by calculating similarities between data sets. If the path contains folders that are not existent yet, they will be created during the conversion process.\n",
    "\n",
    "__create_corpus__ (bool): If a graph corpus is created\n",
    "* If this parameter is set to True, a graph corpus will be created during the conversion process. See further below in this tutorial for an explanation of the graph corpus.\n",
    "\n",
    "__corpus__ (str): Graph corpus file\n",
    "* Path to the graph corpus JSON file that will be created only if _create_corpus_ == True. If the path contains folders that are not existent yet, they will be created during the conversion process. \n",
    "\n",
    "__name__ (str): Name for single conversion step\n",
    "* If the conversion from JSON to an edge list representation is conducted on more than one file, you somehow have to make sure that for each file a separate similarity file (and probably graph corpus) is created. Using the _name_ parameter allows you to assign each file a unique identifier. For example, if you created your input JSON files using `bibliometa.conversion.CSV2JSON`, the year information inside the output file names may be used as unique identifier for the JSON2EdgeList conversion. See below for an example.\n",
    "\n",
    "__fields__ (list of tuples): Fields and subfields to consider\n",
    "* This parameter defines which field/subfield combinations from the input JSON file are considered in creating a graph corpus. The cumulative content of all fields specified in this parameter will be used as representation for a single data set, i.e., if you specify two or more fields, all values in these fields are collected and the set of these values will be used to calculate similarities between two data sets.\n",
    "    \n",
    "__swap__ (bool): Wheter keys become nodes or keys become values\n",
    "* If _swap_ == True, keys from the input JSON file will become values in the graph corpus. For example, let's assume your input JSON data represents metadata records and the keywords used in them. Keys are record IDs and values are the keywords. If _swap_ == True, those keywords will become keys in the graph corpus (which later will be the nodes in the graph) and the record ID will become the values of these keyword keys. If _swap_ == False, keys from the input JSON will also be keys in the graph corpus. See below for an example."
   ]
  },
  {
   "cell_type": "markdown",
   "id": "0b20b735",
   "metadata": {},
   "source": [
    "At this point, let's try to change a configuration parameter using the _set_config()_ function. After each function call the current configuration is printed out automatically to check if your changes worked as expected:"
   ]
  },
  {
   "cell_type": "code",
   "execution_count": 7,
   "id": "c45805d6",
   "metadata": {},
   "outputs": [
    {
     "data": {
      "text/plain": [
       "('i', None)\n",
       "('o', None)\n",
       "('create_corpus', True)\n",
       "('corpus', None)\n",
       "('name', '')\n",
       "('fields', None)\n",
       "('swap', False)\n",
       "('sim_functions', None)\n",
       "('archive', True)\n",
       "('archive_ext', '.tar.gz')\n",
       "('csv_sep', '\\t')\n",
       "('log', None)\n",
       "('log_level_std', 'INFO')\n",
       "('log_level_file', 'DEBUG')\n",
       "('verbose', False)\n",
       "('encoding', 'utf-8')"
      ]
     },
     "execution_count": 7,
     "metadata": {},
     "output_type": "execute_result"
    }
   ],
   "source": [
    "j2e.set_config(create_corpus=True)"
   ]
  },
  {
   "cell_type": "markdown",
   "id": "157ba23a",
   "metadata": {},
   "source": [
    "Calling the _set_config()_ function with keyword arguments allows you to change the configuration parameters according to your needs. Since it is a bit cumbersome to find the parameters in the output above, you can also use keyword arguments with the _get_config()_ function to check for specific configuration parameters:"
   ]
  },
  {
   "cell_type": "code",
   "execution_count": 8,
   "id": "61824a71",
   "metadata": {},
   "outputs": [
    {
     "data": {
      "text/plain": [
       "('create_corpus', True)"
      ]
     },
     "execution_count": 8,
     "metadata": {},
     "output_type": "execute_result"
    }
   ],
   "source": [
    "j2e.get_config(\"create_corpus\")"
   ]
  },
  {
   "cell_type": "code",
   "execution_count": 9,
   "id": "dcd93061",
   "metadata": {},
   "outputs": [
    {
     "data": {
      "text/plain": [
       "('i', None)\n",
       "('o', None)\n",
       "('corpus', None)"
      ]
     },
     "execution_count": 9,
     "metadata": {},
     "output_type": "execute_result"
    }
   ],
   "source": [
    "j2e.get_config(\"i\", \"o\", \"corpus\") "
   ]
  },
  {
   "cell_type": "markdown",
   "id": "ee2fee1b",
   "metadata": {},
   "source": [
    "As you can see, working with configuration parameters is quite simple."
   ]
  },
  {
   "cell_type": "code",
   "execution_count": 10,
   "id": "cbbe90a6",
   "metadata": {},
   "outputs": [
    {
     "data": {
      "text/plain": [
       "('i', None)"
      ]
     },
     "execution_count": 10,
     "metadata": {},
     "output_type": "execute_result"
    }
   ],
   "source": [
    "j2e.get_config(\"i\")"
   ]
  },
  {
   "cell_type": "code",
   "execution_count": 11,
   "id": "cafebe2c",
   "metadata": {},
   "outputs": [
    {
     "data": {
      "text/plain": [
       "('i', '../data/my_own_data.csv')"
      ]
     },
     "execution_count": 11,
     "metadata": {},
     "output_type": "execute_result"
    }
   ],
   "source": [
    "j2e.set_config(i=\"../data/my_own_data.csv\")\n",
    "j2e.get_config(\"i\")"
   ]
  },
  {
   "cell_type": "markdown",
   "id": "b1fee6dd",
   "metadata": {},
   "source": [
    "Actually, if you know the parameter you want to change, you can also set and get configuration parameters using a dot notation. This is the preferred way if you need to change or access only a single parameter value, since the output does not include the parameter key itself:"
   ]
  },
  {
   "cell_type": "code",
   "execution_count": 12,
   "id": "d393979d",
   "metadata": {},
   "outputs": [
    {
     "data": {
      "text/plain": [
       "'../data/my_very_own_data.csv'"
      ]
     },
     "execution_count": 12,
     "metadata": {},
     "output_type": "execute_result"
    }
   ],
   "source": [
    "j2e.config.i = \"../data/my_very_own_data.csv\"\n",
    "j2e.config.i"
   ]
  },
  {
   "cell_type": "markdown",
   "id": "03312ecd",
   "metadata": {},
   "source": [
    "However, if you need to change or access more than one configuration parameter, using the _set_config()_ and _get_config()_ functions is the way to go."
   ]
  },
  {
   "cell_type": "markdown",
   "id": "b2a50bea",
   "metadata": {},
   "source": [
    "-----"
   ]
  },
  {
   "cell_type": "markdown",
   "id": "4bb3601a",
   "metadata": {},
   "source": [
    "## Graph corpus"
   ]
  },
  {
   "cell_type": "markdown",
   "id": "2679d343",
   "metadata": {},
   "source": [
    "Let's see how a graph corpus is created by using different configuration options.\n",
    "\n",
    "We use a demo file that can be created using the _CSV2JSON_ tutorial (but that is also already available in the \"examples\" folder). First, we check our configuration:"
   ]
  },
  {
   "cell_type": "code",
   "execution_count": 13,
   "id": "9ed603ee",
   "metadata": {},
   "outputs": [
    {
     "data": {
      "text/plain": [
       "('i', '../data/my_very_own_data.csv')\n",
       "('o', None)\n",
       "('create_corpus', True)\n",
       "('corpus', None)\n",
       "('name', '')\n",
       "('fields', None)\n",
       "('swap', False)\n",
       "('sim_functions', None)\n",
       "('archive', True)\n",
       "('archive_ext', '.tar.gz')\n",
       "('csv_sep', '\\t')\n",
       "('log', None)\n",
       "('log_level_std', 'INFO')\n",
       "('log_level_file', 'DEBUG')\n",
       "('verbose', False)\n",
       "('encoding', 'utf-8')"
      ]
     },
     "execution_count": 13,
     "metadata": {},
     "output_type": "execute_result"
    }
   ],
   "source": [
    "j2e.get_config()"
   ]
  },
  {
   "cell_type": "markdown",
   "id": "b0564097",
   "metadata": {},
   "source": [
    "The parameter _create_corpus_ is already set to True. We want to see what happens if we do not create a corpus but try to start the conversion directly. So we have to change the input file, output file, and the _create_corpus_ parameter:"
   ]
  },
  {
   "cell_type": "code",
   "execution_count": 14,
   "id": "0d3b94c2",
   "metadata": {},
   "outputs": [
    {
     "data": {
      "text/plain": [
       "('../data/examples/demo_1700.json', False)"
      ]
     },
     "execution_count": 14,
     "metadata": {},
     "output_type": "execute_result"
    }
   ],
   "source": [
    "j2e.config.i = \"../data/examples/demo_1700.json\"\n",
    "j2e.config.o = \"../data/output/similarity/similarity.csv\"\n",
    "j2e.config.log = \"../data/logs/json2edgelist_demo.out\"\n",
    "j2e.config.create_corpus = False\n",
    "j2e.config.i, j2e.config.create_corpus"
   ]
  },
  {
   "cell_type": "markdown",
   "id": "74197b49",
   "metadata": {},
   "source": [
    "Now let's start the JSON2EdgeList conversion:"
   ]
  },
  {
   "cell_type": "code",
   "execution_count": 15,
   "id": "4564b406",
   "metadata": {},
   "outputs": [
    {
     "ename": "TypeError",
     "evalue": "expected str, bytes or os.PathLike object, not NoneType",
     "output_type": "error",
     "traceback": [
      "\u001b[0;31m---------------------------------------------------------------------------\u001b[0m",
      "\u001b[0;31mTypeError\u001b[0m                                 Traceback (most recent call last)",
      "\u001b[0;32m/tmp/ipykernel_18100/356397181.py\u001b[0m in \u001b[0;36m<module>\u001b[0;34m\u001b[0m\n\u001b[0;32m----> 1\u001b[0;31m \u001b[0mj2e\u001b[0m\u001b[0;34m.\u001b[0m\u001b[0mstart\u001b[0m\u001b[0;34m(\u001b[0m\u001b[0;34m)\u001b[0m\u001b[0;34m\u001b[0m\u001b[0;34m\u001b[0m\u001b[0m\n\u001b[0m",
      "\u001b[0;32m~/.cache/pypoetry/virtualenvs/cerl-thesaurus-Is9YIE1K-py3.8/lib/python3.8/site-packages/bibliometa/graph/conversion.py\u001b[0m in \u001b[0;36mstart\u001b[0;34m(self, n)\u001b[0m\n\u001b[1;32m     60\u001b[0m             \u001b[0;31m# load graph corpus from existing file\u001b[0m\u001b[0;34m\u001b[0m\u001b[0;34m\u001b[0m\u001b[0;34m\u001b[0m\u001b[0m\n\u001b[1;32m     61\u001b[0m             \u001b[0;32mtry\u001b[0m\u001b[0;34m:\u001b[0m\u001b[0;34m\u001b[0m\u001b[0;34m\u001b[0m\u001b[0m\n\u001b[0;32m---> 62\u001b[0;31m                 \u001b[0mfilename\u001b[0m\u001b[0;34m,\u001b[0m \u001b[0msuffix\u001b[0m\u001b[0;34m,\u001b[0m \u001b[0mext\u001b[0m \u001b[0;34m=\u001b[0m \u001b[0mMainUtils\u001b[0m\u001b[0;34m.\u001b[0m\u001b[0mget_file_info\u001b[0m\u001b[0;34m(\u001b[0m\u001b[0mself\u001b[0m\u001b[0;34m.\u001b[0m\u001b[0mconfig\u001b[0m\u001b[0;34m.\u001b[0m\u001b[0mcorpus\u001b[0m\u001b[0;34m,\u001b[0m \u001b[0msuffix\u001b[0m\u001b[0;34m=\u001b[0m\u001b[0mself\u001b[0m\u001b[0;34m.\u001b[0m\u001b[0mconfig\u001b[0m\u001b[0;34m.\u001b[0m\u001b[0mname\u001b[0m\u001b[0;34m)\u001b[0m\u001b[0;34m\u001b[0m\u001b[0;34m\u001b[0m\u001b[0m\n\u001b[0m\u001b[1;32m     63\u001b[0m                 \u001b[0mcorpus\u001b[0m \u001b[0;34m=\u001b[0m \u001b[0mDictUtils\u001b[0m\u001b[0;34m.\u001b[0m\u001b[0mread_from_json\u001b[0m\u001b[0;34m(\u001b[0m\u001b[0mfilename\u001b[0m \u001b[0;34m+\u001b[0m \u001b[0msuffix\u001b[0m \u001b[0;34m+\u001b[0m \u001b[0mext\u001b[0m\u001b[0;34m,\u001b[0m \u001b[0mencoding\u001b[0m\u001b[0;34m=\u001b[0m\u001b[0mself\u001b[0m\u001b[0;34m.\u001b[0m\u001b[0mconfig\u001b[0m\u001b[0;34m.\u001b[0m\u001b[0mencoding\u001b[0m\u001b[0;34m)\u001b[0m\u001b[0;34m\u001b[0m\u001b[0;34m\u001b[0m\u001b[0m\n\u001b[1;32m     64\u001b[0m             \u001b[0;32mexcept\u001b[0m \u001b[0mFileNotFoundError\u001b[0m \u001b[0;32mas\u001b[0m \u001b[0me\u001b[0m\u001b[0;34m:\u001b[0m\u001b[0;34m\u001b[0m\u001b[0;34m\u001b[0m\u001b[0m\n",
      "\u001b[0;32m~/.cache/pypoetry/virtualenvs/cerl-thesaurus-Is9YIE1K-py3.8/lib/python3.8/site-packages/bibliometa/utils/utils.py\u001b[0m in \u001b[0;36mget_file_info\u001b[0;34m(path, suffix)\u001b[0m\n\u001b[1;32m     28\u001b[0m         \u001b[0;34m:\u001b[0m\u001b[0mrtype\u001b[0m\u001b[0;34m:\u001b[0m \u001b[0mtuple\u001b[0m \u001b[0mof\u001b[0m\u001b[0;31m \u001b[0m\u001b[0;31m`\u001b[0m\u001b[0mstr\u001b[0m\u001b[0;31m`\u001b[0m\u001b[0;34m\u001b[0m\u001b[0;34m\u001b[0m\u001b[0m\n\u001b[1;32m     29\u001b[0m         \"\"\"\n\u001b[0;32m---> 30\u001b[0;31m         \u001b[0mfilename\u001b[0m\u001b[0;34m,\u001b[0m \u001b[0mext\u001b[0m \u001b[0;34m=\u001b[0m \u001b[0mos\u001b[0m\u001b[0;34m.\u001b[0m\u001b[0mpath\u001b[0m\u001b[0;34m.\u001b[0m\u001b[0msplitext\u001b[0m\u001b[0;34m(\u001b[0m\u001b[0mpath\u001b[0m\u001b[0;34m)\u001b[0m\u001b[0;34m\u001b[0m\u001b[0;34m\u001b[0m\u001b[0m\n\u001b[0m\u001b[1;32m     31\u001b[0m         \u001b[0mdirname\u001b[0m \u001b[0;34m=\u001b[0m \u001b[0mos\u001b[0m\u001b[0;34m.\u001b[0m\u001b[0mpath\u001b[0m\u001b[0;34m.\u001b[0m\u001b[0mdirname\u001b[0m\u001b[0;34m(\u001b[0m\u001b[0mpath\u001b[0m\u001b[0;34m)\u001b[0m\u001b[0;34m\u001b[0m\u001b[0;34m\u001b[0m\u001b[0m\n\u001b[1;32m     32\u001b[0m         \u001b[0;32mif\u001b[0m \u001b[0;32mnot\u001b[0m \u001b[0mos\u001b[0m\u001b[0;34m.\u001b[0m\u001b[0mpath\u001b[0m\u001b[0;34m.\u001b[0m\u001b[0mexists\u001b[0m\u001b[0;34m(\u001b[0m\u001b[0mdirname\u001b[0m\u001b[0;34m)\u001b[0m\u001b[0;34m:\u001b[0m\u001b[0;34m\u001b[0m\u001b[0;34m\u001b[0m\u001b[0m\n",
      "\u001b[0;32m/usr/lib/python3.8/posixpath.py\u001b[0m in \u001b[0;36msplitext\u001b[0;34m(p)\u001b[0m\n\u001b[1;32m    116\u001b[0m \u001b[0;34m\u001b[0m\u001b[0m\n\u001b[1;32m    117\u001b[0m \u001b[0;32mdef\u001b[0m \u001b[0msplitext\u001b[0m\u001b[0;34m(\u001b[0m\u001b[0mp\u001b[0m\u001b[0;34m)\u001b[0m\u001b[0;34m:\u001b[0m\u001b[0;34m\u001b[0m\u001b[0;34m\u001b[0m\u001b[0m\n\u001b[0;32m--> 118\u001b[0;31m     \u001b[0mp\u001b[0m \u001b[0;34m=\u001b[0m \u001b[0mos\u001b[0m\u001b[0;34m.\u001b[0m\u001b[0mfspath\u001b[0m\u001b[0;34m(\u001b[0m\u001b[0mp\u001b[0m\u001b[0;34m)\u001b[0m\u001b[0;34m\u001b[0m\u001b[0;34m\u001b[0m\u001b[0m\n\u001b[0m\u001b[1;32m    119\u001b[0m     \u001b[0;32mif\u001b[0m \u001b[0misinstance\u001b[0m\u001b[0;34m(\u001b[0m\u001b[0mp\u001b[0m\u001b[0;34m,\u001b[0m \u001b[0mbytes\u001b[0m\u001b[0;34m)\u001b[0m\u001b[0;34m:\u001b[0m\u001b[0;34m\u001b[0m\u001b[0;34m\u001b[0m\u001b[0m\n\u001b[1;32m    120\u001b[0m         \u001b[0msep\u001b[0m \u001b[0;34m=\u001b[0m \u001b[0;34mb'/'\u001b[0m\u001b[0;34m\u001b[0m\u001b[0;34m\u001b[0m\u001b[0m\n",
      "\u001b[0;31mTypeError\u001b[0m: expected str, bytes or os.PathLike object, not NoneType"
     ]
    }
   ],
   "source": [
    "j2e.start()"
   ]
  },
  {
   "cell_type": "markdown",
   "id": "c563fc30",
   "metadata": {},
   "source": [
    "As you can learn from the error message, there is no graph corpus available. Since the graph corpus is the basis on which similarity calcultation will be conducted, you have to create a graph corpus first. In subsequent runs you may skip the graph corpus creation if there were no changes to your input data and you only want to re-run the similarity calculation.\n",
    "\n",
    "But for now, we have to create a corpus for the first time."
   ]
  },
  {
   "cell_type": "code",
   "execution_count": 16,
   "id": "12b5e610",
   "metadata": {},
   "outputs": [
    {
     "ename": "TypeError",
     "evalue": "'NoneType' object is not iterable",
     "output_type": "error",
     "traceback": [
      "\u001b[0;31m---------------------------------------------------------------------------\u001b[0m",
      "\u001b[0;31mTypeError\u001b[0m                                 Traceback (most recent call last)",
      "\u001b[0;32m/tmp/ipykernel_18100/1152413145.py\u001b[0m in \u001b[0;36m<module>\u001b[0;34m\u001b[0m\n\u001b[1;32m      1\u001b[0m \u001b[0mj2e\u001b[0m\u001b[0;34m.\u001b[0m\u001b[0mconfig\u001b[0m\u001b[0;34m.\u001b[0m\u001b[0mcreate_corpus\u001b[0m \u001b[0;34m=\u001b[0m \u001b[0;32mTrue\u001b[0m\u001b[0;34m\u001b[0m\u001b[0;34m\u001b[0m\u001b[0m\n\u001b[1;32m      2\u001b[0m \u001b[0mj2e\u001b[0m\u001b[0;34m.\u001b[0m\u001b[0mconfig\u001b[0m\u001b[0;34m.\u001b[0m\u001b[0mcorpus\u001b[0m \u001b[0;34m=\u001b[0m \u001b[0;34m\"../data/output/graph_corpus/graph_corpus.json\"\u001b[0m\u001b[0;34m\u001b[0m\u001b[0;34m\u001b[0m\u001b[0m\n\u001b[0;32m----> 3\u001b[0;31m \u001b[0mj2e\u001b[0m\u001b[0;34m.\u001b[0m\u001b[0mstart\u001b[0m\u001b[0;34m(\u001b[0m\u001b[0;34m)\u001b[0m\u001b[0;34m\u001b[0m\u001b[0;34m\u001b[0m\u001b[0m\n\u001b[0m",
      "\u001b[0;32m~/.cache/pypoetry/virtualenvs/cerl-thesaurus-Is9YIE1K-py3.8/lib/python3.8/site-packages/bibliometa/graph/conversion.py\u001b[0m in \u001b[0;36mstart\u001b[0;34m(self, n)\u001b[0m\n\u001b[1;32m     56\u001b[0m         \u001b[0;31m# Create graph corpus if necessary\u001b[0m\u001b[0;34m\u001b[0m\u001b[0;34m\u001b[0m\u001b[0;34m\u001b[0m\u001b[0m\n\u001b[1;32m     57\u001b[0m         \u001b[0;32mif\u001b[0m \u001b[0mself\u001b[0m\u001b[0;34m.\u001b[0m\u001b[0mconfig\u001b[0m\u001b[0;34m.\u001b[0m\u001b[0mcreate_corpus\u001b[0m\u001b[0;34m:\u001b[0m\u001b[0;34m\u001b[0m\u001b[0;34m\u001b[0m\u001b[0m\n\u001b[0;32m---> 58\u001b[0;31m             \u001b[0mcorpus\u001b[0m \u001b[0;34m=\u001b[0m \u001b[0mGraphCorpus\u001b[0m\u001b[0;34m.\u001b[0m\u001b[0mcreate\u001b[0m\u001b[0;34m(\u001b[0m\u001b[0mdata\u001b[0m\u001b[0;34m,\u001b[0m \u001b[0mself\u001b[0m\u001b[0;34m.\u001b[0m\u001b[0mconfig\u001b[0m\u001b[0;34m)\u001b[0m\u001b[0;34m\u001b[0m\u001b[0;34m\u001b[0m\u001b[0m\n\u001b[0m\u001b[1;32m     59\u001b[0m         \u001b[0;32melse\u001b[0m\u001b[0;34m:\u001b[0m\u001b[0;34m\u001b[0m\u001b[0;34m\u001b[0m\u001b[0m\n\u001b[1;32m     60\u001b[0m             \u001b[0;31m# load graph corpus from existing file\u001b[0m\u001b[0;34m\u001b[0m\u001b[0;34m\u001b[0m\u001b[0;34m\u001b[0m\u001b[0m\n",
      "\u001b[0;32m~/.cache/pypoetry/virtualenvs/cerl-thesaurus-Is9YIE1K-py3.8/lib/python3.8/site-packages/bibliometa/graph/conversion.py\u001b[0m in \u001b[0;36mcreate\u001b[0;34m(data, config)\u001b[0m\n\u001b[1;32m    185\u001b[0m \u001b[0;34m\u001b[0m\u001b[0m\n\u001b[1;32m    186\u001b[0m         \u001b[0;31m# class action starts here\u001b[0m\u001b[0;34m\u001b[0m\u001b[0;34m\u001b[0m\u001b[0;34m\u001b[0m\u001b[0m\n\u001b[0;32m--> 187\u001b[0;31m         \u001b[0mcorpus\u001b[0m \u001b[0;34m=\u001b[0m \u001b[0m_create_swap\u001b[0m\u001b[0;34m(\u001b[0m\u001b[0;34m)\u001b[0m \u001b[0;32mif\u001b[0m \u001b[0mconfig\u001b[0m\u001b[0;34m.\u001b[0m\u001b[0mswap\u001b[0m \u001b[0;32melse\u001b[0m \u001b[0m_create_original\u001b[0m\u001b[0;34m(\u001b[0m\u001b[0;34m)\u001b[0m\u001b[0;34m\u001b[0m\u001b[0;34m\u001b[0m\u001b[0m\n\u001b[0m\u001b[1;32m    188\u001b[0m \u001b[0;34m\u001b[0m\u001b[0m\n\u001b[1;32m    189\u001b[0m         \u001b[0;31m# Write corpus to file\u001b[0m\u001b[0;34m\u001b[0m\u001b[0;34m\u001b[0m\u001b[0;34m\u001b[0m\u001b[0m\n",
      "\u001b[0;32m~/.cache/pypoetry/virtualenvs/cerl-thesaurus-Is9YIE1K-py3.8/lib/python3.8/site-packages/bibliometa/graph/conversion.py\u001b[0m in \u001b[0;36m_create_original\u001b[0;34m()\u001b[0m\n\u001b[1;32m    164\u001b[0m             \u001b[0;32mfor\u001b[0m \u001b[0mkey\u001b[0m \u001b[0;32min\u001b[0m \u001b[0mdata\u001b[0m\u001b[0;34m.\u001b[0m\u001b[0mkeys\u001b[0m\u001b[0;34m(\u001b[0m\u001b[0;34m)\u001b[0m\u001b[0;34m:\u001b[0m\u001b[0;34m\u001b[0m\u001b[0;34m\u001b[0m\u001b[0m\n\u001b[1;32m    165\u001b[0m                 \u001b[0m_corpus\u001b[0m\u001b[0;34m[\u001b[0m\u001b[0mkey\u001b[0m\u001b[0;34m]\u001b[0m \u001b[0;34m=\u001b[0m \u001b[0;34m[\u001b[0m\u001b[0;34m]\u001b[0m\u001b[0;34m\u001b[0m\u001b[0;34m\u001b[0m\u001b[0m\n\u001b[0;32m--> 166\u001b[0;31m                 \u001b[0;32mfor\u001b[0m \u001b[0mfield\u001b[0m\u001b[0;34m,\u001b[0m \u001b[0msubfield\u001b[0m \u001b[0;32min\u001b[0m \u001b[0mconfig\u001b[0m\u001b[0;34m.\u001b[0m\u001b[0mfields\u001b[0m\u001b[0;34m:\u001b[0m\u001b[0;34m\u001b[0m\u001b[0;34m\u001b[0m\u001b[0m\n\u001b[0m\u001b[1;32m    167\u001b[0m                     \u001b[0;32mif\u001b[0m \u001b[0mfield\u001b[0m \u001b[0;32min\u001b[0m \u001b[0mdata\u001b[0m\u001b[0;34m[\u001b[0m\u001b[0mkey\u001b[0m\u001b[0;34m]\u001b[0m\u001b[0;34m.\u001b[0m\u001b[0mkeys\u001b[0m\u001b[0;34m(\u001b[0m\u001b[0;34m)\u001b[0m\u001b[0;34m:\u001b[0m\u001b[0;34m\u001b[0m\u001b[0;34m\u001b[0m\u001b[0m\n\u001b[1;32m    168\u001b[0m                         \u001b[0;32mif\u001b[0m \u001b[0msubfield\u001b[0m \u001b[0;32min\u001b[0m \u001b[0mdata\u001b[0m\u001b[0;34m[\u001b[0m\u001b[0mkey\u001b[0m\u001b[0;34m]\u001b[0m\u001b[0;34m[\u001b[0m\u001b[0mfield\u001b[0m\u001b[0;34m]\u001b[0m\u001b[0;34m.\u001b[0m\u001b[0mkeys\u001b[0m\u001b[0;34m(\u001b[0m\u001b[0;34m)\u001b[0m\u001b[0;34m:\u001b[0m\u001b[0;34m\u001b[0m\u001b[0;34m\u001b[0m\u001b[0m\n",
      "\u001b[0;31mTypeError\u001b[0m: 'NoneType' object is not iterable"
     ]
    }
   ],
   "source": [
    "j2e.config.create_corpus = True\n",
    "j2e.config.corpus = \"../data/output/graph_corpus/graph_corpus.json\"\n",
    "j2e.start()"
   ]
  },
  {
   "cell_type": "markdown",
   "id": "55f11ffd",
   "metadata": {},
   "source": [
    "Again, you can get some valuable information from the error message. The _fields_ parameter in our configuration is not set, so that the conversion does not know which fields to process. Let's look into the input data to find out which fields are available."
   ]
  },
  {
   "cell_type": "code",
   "execution_count": 17,
   "id": "dc5bfa17",
   "metadata": {},
   "outputs": [
    {
     "name": "stdout",
     "output_type": "stream",
     "text": [
      "('cnp01287518', {'515': {'a': ['Breslau']}})\n",
      "('cnp01287801', {'515': {'a': ['Helmstedt']}})\n",
      "('cnp01417221', {'515': {'a': ['Bayreuth', 'Schleusingen']}})\n",
      "('cnp01418335', {'515': {'a': ['Halle']}})\n",
      "('cnp01289912', {'515': {'a': ['Venedig']}})\n"
     ]
    }
   ],
   "source": [
    "import json\n",
    "\n",
    "with open(j2e.config.i, \"r\", encoding=j2e.config.encoding) as f:\n",
    "    d = json.load(f)\n",
    "\n",
    "for i in list(d.items())[:5]:\n",
    "    print(i)"
   ]
  },
  {
   "cell_type": "markdown",
   "id": "9c15e993",
   "metadata": {},
   "source": [
    "It seems like there is only one field/subfield combination in our data: \"515\", subfield \"a\". But we should check this more systematically:"
   ]
  },
  {
   "cell_type": "code",
   "execution_count": 18,
   "id": "ba4e1809",
   "metadata": {},
   "outputs": [
    {
     "data": {
      "text/plain": [
       "{('515', 'a')}"
      ]
     },
     "execution_count": 18,
     "metadata": {},
     "output_type": "execute_result"
    }
   ],
   "source": [
    "combinations = []\n",
    "for k, v in d.items():\n",
    "    for field in v.keys():\n",
    "        for subfield in v[field].keys():\n",
    "            combinations.append((field, subfield))\n",
    "set(combinations)"
   ]
  },
  {
   "cell_type": "markdown",
   "id": "bc442ed5",
   "metadata": {},
   "source": [
    "There is indeed only this single field/subfield combination in the data. We use this to configure our _JSON2EdgeList_ object accordingly:"
   ]
  },
  {
   "cell_type": "code",
   "execution_count": 19,
   "id": "2441f990",
   "metadata": {},
   "outputs": [
    {
     "data": {
      "text/plain": [
       "[('515', 'a')]"
      ]
     },
     "execution_count": 19,
     "metadata": {},
     "output_type": "execute_result"
    }
   ],
   "source": [
    "j2e.config.fields = [(\"515\", \"a\")]\n",
    "j2e.config.fields"
   ]
  },
  {
   "cell_type": "markdown",
   "id": "d015df44",
   "metadata": {},
   "source": [
    "And now let's try again to start the graph corpus creation:"
   ]
  },
  {
   "cell_type": "code",
   "execution_count": 20,
   "id": "bfcc8ce1",
   "metadata": {},
   "outputs": [
    {
     "data": {
      "application/vnd.jupyter.widget-view+json": {
       "model_id": "ae2624862bca49d5a6caf85b14512586",
       "version_major": 2,
       "version_minor": 0
      },
      "text/plain": [
       "  0%|          | 0/67 [00:00<?, ?it/s]"
      ]
     },
     "metadata": {},
     "output_type": "display_data"
    },
    {
     "ename": "TypeError",
     "evalue": "'NoneType' object is not iterable",
     "output_type": "error",
     "traceback": [
      "\u001b[0;31m---------------------------------------------------------------------------\u001b[0m",
      "\u001b[0;31mTypeError\u001b[0m                                 Traceback (most recent call last)",
      "\u001b[0;32m/tmp/ipykernel_18100/356397181.py\u001b[0m in \u001b[0;36m<module>\u001b[0;34m\u001b[0m\n\u001b[0;32m----> 1\u001b[0;31m \u001b[0mj2e\u001b[0m\u001b[0;34m.\u001b[0m\u001b[0mstart\u001b[0m\u001b[0;34m(\u001b[0m\u001b[0;34m)\u001b[0m\u001b[0;34m\u001b[0m\u001b[0;34m\u001b[0m\u001b[0m\n\u001b[0m",
      "\u001b[0;32m~/.cache/pypoetry/virtualenvs/cerl-thesaurus-Is9YIE1K-py3.8/lib/python3.8/site-packages/bibliometa/graph/conversion.py\u001b[0m in \u001b[0;36mstart\u001b[0;34m(self, n)\u001b[0m\n\u001b[1;32m     73\u001b[0m         \u001b[0;31m# Calculate similarity\u001b[0m\u001b[0;34m\u001b[0m\u001b[0;34m\u001b[0m\u001b[0;34m\u001b[0m\u001b[0m\n\u001b[1;32m     74\u001b[0m         \u001b[0mlogger\u001b[0m\u001b[0;34m.\u001b[0m\u001b[0minfo\u001b[0m\u001b[0;34m(\u001b[0m\u001b[0;34m\"Start similarity calculation.\"\u001b[0m\u001b[0;34m)\u001b[0m\u001b[0;34m\u001b[0m\u001b[0;34m\u001b[0m\u001b[0m\n\u001b[0;32m---> 75\u001b[0;31m         \u001b[0mSimilarity\u001b[0m\u001b[0;34m.\u001b[0m\u001b[0mcalculate\u001b[0m\u001b[0;34m(\u001b[0m\u001b[0mcorpus\u001b[0m\u001b[0;34m,\u001b[0m \u001b[0mself\u001b[0m\u001b[0;34m.\u001b[0m\u001b[0mconfig\u001b[0m\u001b[0;34m)\u001b[0m\u001b[0;34m\u001b[0m\u001b[0;34m\u001b[0m\u001b[0m\n\u001b[0m\u001b[1;32m     76\u001b[0m         \u001b[0mlogger\u001b[0m\u001b[0;34m.\u001b[0m\u001b[0minfo\u001b[0m\u001b[0;34m(\u001b[0m\u001b[0;34m\"Similarity calculation ended.\"\u001b[0m\u001b[0;34m)\u001b[0m\u001b[0;34m\u001b[0m\u001b[0;34m\u001b[0m\u001b[0m\n\u001b[1;32m     77\u001b[0m \u001b[0;34m\u001b[0m\u001b[0m\n",
      "\u001b[0;32m~/.cache/pypoetry/virtualenvs/cerl-thesaurus-Is9YIE1K-py3.8/lib/python3.8/site-packages/bibliometa/graph/similarity.py\u001b[0m in \u001b[0;36mcalculate\u001b[0;34m(corpus, config)\u001b[0m\n\u001b[1;32m     40\u001b[0m         \u001b[0;32mwith\u001b[0m \u001b[0mtqdm\u001b[0m\u001b[0;34m(\u001b[0m\u001b[0mtotal\u001b[0m\u001b[0;34m=\u001b[0m\u001b[0mprogress_max_value\u001b[0m\u001b[0;34m)\u001b[0m \u001b[0;32mas\u001b[0m \u001b[0mprogressbar\u001b[0m\u001b[0;34m:\u001b[0m\u001b[0;34m\u001b[0m\u001b[0;34m\u001b[0m\u001b[0m\n\u001b[1;32m     41\u001b[0m             \u001b[0;32mfor\u001b[0m \u001b[0mkey1\u001b[0m\u001b[0;34m,\u001b[0m \u001b[0mkey2\u001b[0m \u001b[0;32min\u001b[0m \u001b[0mitertools\u001b[0m\u001b[0;34m.\u001b[0m\u001b[0mcombinations\u001b[0m\u001b[0;34m(\u001b[0m\u001b[0mcorpus\u001b[0m\u001b[0;34m,\u001b[0m \u001b[0;36m2\u001b[0m\u001b[0;34m)\u001b[0m\u001b[0;34m:\u001b[0m\u001b[0;34m\u001b[0m\u001b[0;34m\u001b[0m\u001b[0m\n\u001b[0;32m---> 42\u001b[0;31m                 similarity_dict = Similarity._get_similarity(\n\u001b[0m\u001b[1;32m     43\u001b[0m                     \u001b[0mset\u001b[0m\u001b[0;34m(\u001b[0m\u001b[0mcorpus\u001b[0m\u001b[0;34m[\u001b[0m\u001b[0mkey1\u001b[0m\u001b[0;34m]\u001b[0m\u001b[0;34m)\u001b[0m\u001b[0;34m,\u001b[0m \u001b[0mset\u001b[0m\u001b[0;34m(\u001b[0m\u001b[0mcorpus\u001b[0m\u001b[0;34m[\u001b[0m\u001b[0mkey2\u001b[0m\u001b[0;34m]\u001b[0m\u001b[0;34m)\u001b[0m\u001b[0;34m,\u001b[0m \u001b[0mconfig\u001b[0m\u001b[0;34m.\u001b[0m\u001b[0msim_functions\u001b[0m\u001b[0;34m\u001b[0m\u001b[0;34m\u001b[0m\u001b[0m\n\u001b[1;32m     44\u001b[0m                 )\n",
      "\u001b[0;32m~/.cache/pypoetry/virtualenvs/cerl-thesaurus-Is9YIE1K-py3.8/lib/python3.8/site-packages/bibliometa/graph/similarity.py\u001b[0m in \u001b[0;36m_get_similarity\u001b[0;34m(a, b, sim_functions)\u001b[0m\n\u001b[1;32m     80\u001b[0m \u001b[0;34m\u001b[0m\u001b[0m\n\u001b[1;32m     81\u001b[0m         \u001b[0;31m# iterate over similarity functions, get arguments and call the function\u001b[0m\u001b[0;34m\u001b[0m\u001b[0;34m\u001b[0m\u001b[0;34m\u001b[0m\u001b[0m\n\u001b[0;32m---> 82\u001b[0;31m         \u001b[0;32mfor\u001b[0m \u001b[0msim_func\u001b[0m \u001b[0;32min\u001b[0m \u001b[0msim_functions\u001b[0m\u001b[0;34m:\u001b[0m\u001b[0;34m\u001b[0m\u001b[0;34m\u001b[0m\u001b[0m\n\u001b[0m\u001b[1;32m     83\u001b[0m             \u001b[0;32mif\u001b[0m \u001b[0;34m\"args\"\u001b[0m \u001b[0;32min\u001b[0m \u001b[0msim_func\u001b[0m\u001b[0;34m.\u001b[0m\u001b[0mkeys\u001b[0m\u001b[0;34m(\u001b[0m\u001b[0;34m)\u001b[0m\u001b[0;34m:\u001b[0m\u001b[0;34m\u001b[0m\u001b[0;34m\u001b[0m\u001b[0m\n\u001b[1;32m     84\u001b[0m                 \u001b[0;32mif\u001b[0m \u001b[0;34m\"f\"\u001b[0m \u001b[0;32min\u001b[0m \u001b[0msim_func\u001b[0m\u001b[0;34m[\u001b[0m\u001b[0;34m\"args\"\u001b[0m\u001b[0;34m]\u001b[0m\u001b[0;34m:\u001b[0m\u001b[0;34m\u001b[0m\u001b[0;34m\u001b[0m\u001b[0m\n",
      "\u001b[0;31mTypeError\u001b[0m: 'NoneType' object is not iterable"
     ]
    }
   ],
   "source": [
    "j2e.start()"
   ]
  },
  {
   "cell_type": "markdown",
   "id": "113c3f1f",
   "metadata": {},
   "source": [
    "It seems like nothing really happend and that our configuration is still missing a reasonable value for a  mandatory parameter (called _sim_functions_). But this is not the case: actually, a graph corpus was created before the error message occurred. We can check this by looking into the file we specified in the configuration parameter _corpus_:"
   ]
  },
  {
   "cell_type": "code",
   "execution_count": 21,
   "id": "791e2d53",
   "metadata": {},
   "outputs": [
    {
     "data": {
      "text/plain": [
       "['graph_corpus.json']"
      ]
     },
     "execution_count": 21,
     "metadata": {},
     "output_type": "execute_result"
    }
   ],
   "source": [
    "import os\n",
    "\n",
    "os.listdir(os.path.dirname(j2e.config.corpus))"
   ]
  },
  {
   "cell_type": "markdown",
   "id": "6c965354",
   "metadata": {},
   "source": [
    "Let's understand what is inside this file by looking at the first 10 elements:"
   ]
  },
  {
   "cell_type": "code",
   "execution_count": 22,
   "id": "a6a15ca0",
   "metadata": {},
   "outputs": [
    {
     "data": {
      "text/plain": [
       "[('cnp01287518', ['Breslau']),\n",
       " ('cnp01287801', ['Helmstedt']),\n",
       " ('cnp01417221', ['Bayreuth', 'Schleusingen']),\n",
       " ('cnp01418335', ['Halle']),\n",
       " ('cnp01289912', ['Venedig']),\n",
       " ('cnp01286053', ['Leipzig']),\n",
       " ('cnp01937459', ['Bergisches Land']),\n",
       " ('cnp02047908', ['Pirna', 'Leipzig']),\n",
       " ('cnp01416622', ['Bad Frankenhausen']),\n",
       " ('cnp01286888', ['Weißenfels'])]"
      ]
     },
     "execution_count": 22,
     "metadata": {},
     "output_type": "execute_result"
    }
   ],
   "source": [
    "with open(j2e.config.corpus, \"r\", encoding=j2e.config.encoding) as f:\n",
    "    d = json.load(f)\n",
    "list(d.items())[:10]"
   ]
  },
  {
   "cell_type": "markdown",
   "id": "e7688460",
   "metadata": {},
   "source": [
    "We can see that for each key present in the input JSON, a list of values was created. This is our graph corpus on which further analyses are based.\n",
    "\n",
    "But what happens if we change the _swap_ parameter?"
   ]
  },
  {
   "cell_type": "code",
   "execution_count": 23,
   "id": "307a3ba1",
   "metadata": {},
   "outputs": [
    {
     "data": {
      "application/vnd.jupyter.widget-view+json": {
       "model_id": "636247376cf8439bb0729cc278434b75",
       "version_major": 2,
       "version_minor": 0
      },
      "text/plain": [
       "  0%|          | 0/552 [00:00<?, ?it/s]"
      ]
     },
     "metadata": {},
     "output_type": "display_data"
    },
    {
     "data": {
      "application/vnd.jupyter.widget-view+json": {
       "model_id": "fa51ad104f3e462c9fbdd0254b037e1f",
       "version_major": 2,
       "version_minor": 0
      },
      "text/plain": [
       "  0%|          | 0/15 [00:00<?, ?it/s]"
      ]
     },
     "metadata": {},
     "output_type": "display_data"
    },
    {
     "ename": "TypeError",
     "evalue": "'NoneType' object is not iterable",
     "output_type": "error",
     "traceback": [
      "\u001b[0;31m---------------------------------------------------------------------------\u001b[0m",
      "\u001b[0;31mTypeError\u001b[0m                                 Traceback (most recent call last)",
      "\u001b[0;32m/tmp/ipykernel_18100/2882652388.py\u001b[0m in \u001b[0;36m<module>\u001b[0;34m\u001b[0m\n\u001b[1;32m      1\u001b[0m \u001b[0mj2e\u001b[0m\u001b[0;34m.\u001b[0m\u001b[0mconfig\u001b[0m\u001b[0;34m.\u001b[0m\u001b[0mswap\u001b[0m \u001b[0;34m=\u001b[0m \u001b[0;32mTrue\u001b[0m\u001b[0;34m\u001b[0m\u001b[0;34m\u001b[0m\u001b[0m\n\u001b[0;32m----> 2\u001b[0;31m \u001b[0mj2e\u001b[0m\u001b[0;34m.\u001b[0m\u001b[0mstart\u001b[0m\u001b[0;34m(\u001b[0m\u001b[0;34m)\u001b[0m\u001b[0;34m\u001b[0m\u001b[0;34m\u001b[0m\u001b[0m\n\u001b[0m",
      "\u001b[0;32m~/.cache/pypoetry/virtualenvs/cerl-thesaurus-Is9YIE1K-py3.8/lib/python3.8/site-packages/bibliometa/graph/conversion.py\u001b[0m in \u001b[0;36mstart\u001b[0;34m(self, n)\u001b[0m\n\u001b[1;32m     73\u001b[0m         \u001b[0;31m# Calculate similarity\u001b[0m\u001b[0;34m\u001b[0m\u001b[0;34m\u001b[0m\u001b[0;34m\u001b[0m\u001b[0m\n\u001b[1;32m     74\u001b[0m         \u001b[0mlogger\u001b[0m\u001b[0;34m.\u001b[0m\u001b[0minfo\u001b[0m\u001b[0;34m(\u001b[0m\u001b[0;34m\"Start similarity calculation.\"\u001b[0m\u001b[0;34m)\u001b[0m\u001b[0;34m\u001b[0m\u001b[0;34m\u001b[0m\u001b[0m\n\u001b[0;32m---> 75\u001b[0;31m         \u001b[0mSimilarity\u001b[0m\u001b[0;34m.\u001b[0m\u001b[0mcalculate\u001b[0m\u001b[0;34m(\u001b[0m\u001b[0mcorpus\u001b[0m\u001b[0;34m,\u001b[0m \u001b[0mself\u001b[0m\u001b[0;34m.\u001b[0m\u001b[0mconfig\u001b[0m\u001b[0;34m)\u001b[0m\u001b[0;34m\u001b[0m\u001b[0;34m\u001b[0m\u001b[0m\n\u001b[0m\u001b[1;32m     76\u001b[0m         \u001b[0mlogger\u001b[0m\u001b[0;34m.\u001b[0m\u001b[0minfo\u001b[0m\u001b[0;34m(\u001b[0m\u001b[0;34m\"Similarity calculation ended.\"\u001b[0m\u001b[0;34m)\u001b[0m\u001b[0;34m\u001b[0m\u001b[0;34m\u001b[0m\u001b[0m\n\u001b[1;32m     77\u001b[0m \u001b[0;34m\u001b[0m\u001b[0m\n",
      "\u001b[0;32m~/.cache/pypoetry/virtualenvs/cerl-thesaurus-Is9YIE1K-py3.8/lib/python3.8/site-packages/bibliometa/graph/similarity.py\u001b[0m in \u001b[0;36mcalculate\u001b[0;34m(corpus, config)\u001b[0m\n\u001b[1;32m     40\u001b[0m         \u001b[0;32mwith\u001b[0m \u001b[0mtqdm\u001b[0m\u001b[0;34m(\u001b[0m\u001b[0mtotal\u001b[0m\u001b[0;34m=\u001b[0m\u001b[0mprogress_max_value\u001b[0m\u001b[0;34m)\u001b[0m \u001b[0;32mas\u001b[0m \u001b[0mprogressbar\u001b[0m\u001b[0;34m:\u001b[0m\u001b[0;34m\u001b[0m\u001b[0;34m\u001b[0m\u001b[0m\n\u001b[1;32m     41\u001b[0m             \u001b[0;32mfor\u001b[0m \u001b[0mkey1\u001b[0m\u001b[0;34m,\u001b[0m \u001b[0mkey2\u001b[0m \u001b[0;32min\u001b[0m \u001b[0mitertools\u001b[0m\u001b[0;34m.\u001b[0m\u001b[0mcombinations\u001b[0m\u001b[0;34m(\u001b[0m\u001b[0mcorpus\u001b[0m\u001b[0;34m,\u001b[0m \u001b[0;36m2\u001b[0m\u001b[0;34m)\u001b[0m\u001b[0;34m:\u001b[0m\u001b[0;34m\u001b[0m\u001b[0;34m\u001b[0m\u001b[0m\n\u001b[0;32m---> 42\u001b[0;31m                 similarity_dict = Similarity._get_similarity(\n\u001b[0m\u001b[1;32m     43\u001b[0m                     \u001b[0mset\u001b[0m\u001b[0;34m(\u001b[0m\u001b[0mcorpus\u001b[0m\u001b[0;34m[\u001b[0m\u001b[0mkey1\u001b[0m\u001b[0;34m]\u001b[0m\u001b[0;34m)\u001b[0m\u001b[0;34m,\u001b[0m \u001b[0mset\u001b[0m\u001b[0;34m(\u001b[0m\u001b[0mcorpus\u001b[0m\u001b[0;34m[\u001b[0m\u001b[0mkey2\u001b[0m\u001b[0;34m]\u001b[0m\u001b[0;34m)\u001b[0m\u001b[0;34m,\u001b[0m \u001b[0mconfig\u001b[0m\u001b[0;34m.\u001b[0m\u001b[0msim_functions\u001b[0m\u001b[0;34m\u001b[0m\u001b[0;34m\u001b[0m\u001b[0m\n\u001b[1;32m     44\u001b[0m                 )\n",
      "\u001b[0;32m~/.cache/pypoetry/virtualenvs/cerl-thesaurus-Is9YIE1K-py3.8/lib/python3.8/site-packages/bibliometa/graph/similarity.py\u001b[0m in \u001b[0;36m_get_similarity\u001b[0;34m(a, b, sim_functions)\u001b[0m\n\u001b[1;32m     80\u001b[0m \u001b[0;34m\u001b[0m\u001b[0m\n\u001b[1;32m     81\u001b[0m         \u001b[0;31m# iterate over similarity functions, get arguments and call the function\u001b[0m\u001b[0;34m\u001b[0m\u001b[0;34m\u001b[0m\u001b[0;34m\u001b[0m\u001b[0m\n\u001b[0;32m---> 82\u001b[0;31m         \u001b[0;32mfor\u001b[0m \u001b[0msim_func\u001b[0m \u001b[0;32min\u001b[0m \u001b[0msim_functions\u001b[0m\u001b[0;34m:\u001b[0m\u001b[0;34m\u001b[0m\u001b[0;34m\u001b[0m\u001b[0m\n\u001b[0m\u001b[1;32m     83\u001b[0m             \u001b[0;32mif\u001b[0m \u001b[0;34m\"args\"\u001b[0m \u001b[0;32min\u001b[0m \u001b[0msim_func\u001b[0m\u001b[0;34m.\u001b[0m\u001b[0mkeys\u001b[0m\u001b[0;34m(\u001b[0m\u001b[0;34m)\u001b[0m\u001b[0;34m:\u001b[0m\u001b[0;34m\u001b[0m\u001b[0;34m\u001b[0m\u001b[0m\n\u001b[1;32m     84\u001b[0m                 \u001b[0;32mif\u001b[0m \u001b[0;34m\"f\"\u001b[0m \u001b[0;32min\u001b[0m \u001b[0msim_func\u001b[0m\u001b[0;34m[\u001b[0m\u001b[0;34m\"args\"\u001b[0m\u001b[0;34m]\u001b[0m\u001b[0;34m:\u001b[0m\u001b[0;34m\u001b[0m\u001b[0;34m\u001b[0m\u001b[0m\n",
      "\u001b[0;31mTypeError\u001b[0m: 'NoneType' object is not iterable"
     ]
    }
   ],
   "source": [
    "j2e.config.swap = True\n",
    "j2e.start()"
   ]
  },
  {
   "cell_type": "markdown",
   "id": "73eae227",
   "metadata": {},
   "source": [
    "We can ignore the error message again and look into the corpus file that was created. First of all, you can see that previous results get overwritten, there is still only one file in the appropriate folder (since we did not change the path to the corpus file in the _corpus_ parameter):"
   ]
  },
  {
   "cell_type": "code",
   "execution_count": 24,
   "id": "02f87d8c",
   "metadata": {},
   "outputs": [
    {
     "data": {
      "text/plain": [
       "['graph_corpus.json']"
      ]
     },
     "execution_count": 24,
     "metadata": {},
     "output_type": "execute_result"
    }
   ],
   "source": [
    "os.listdir(os.path.dirname(j2e.config.corpus))"
   ]
  },
  {
   "cell_type": "markdown",
   "id": "9b4f2a81",
   "metadata": {},
   "source": [
    "Indeed, the file content did change:"
   ]
  },
  {
   "cell_type": "code",
   "execution_count": 25,
   "id": "24fe02c9",
   "metadata": {},
   "outputs": [
    {
     "data": {
      "text/plain": [
       "[('Praha', ['cnp01332556']),\n",
       " ('Roma',\n",
       "  ['cnp01396704',\n",
       "   'cnp01390940',\n",
       "   'cnp01402089',\n",
       "   'cnp01337377',\n",
       "   'cnp01331949',\n",
       "   'cnp01331836']),\n",
       " ('Distrikt Angus', ['cnp00475273']),\n",
       " ('Poschiavo', ['cnp00100939']),\n",
       " ('Flatow', ['cnp01299679'])]"
      ]
     },
     "execution_count": 25,
     "metadata": {},
     "output_type": "execute_result"
    }
   ],
   "source": [
    "with open(j2e.config.corpus, \"r\", encoding=j2e.config.encoding) as f:\n",
    "    d = json.load(f)\n",
    "list(d.items())[:5]"
   ]
  },
  {
   "cell_type": "markdown",
   "id": "eecea8bd",
   "metadata": {},
   "source": [
    "Keys and values did switch places. Now, for each value that was found in the input data (i.e., for each place name), a list of record IDs in which a place occurs was compiled.\n",
    "\n",
    "By using the _swap_ parameter you can thus create different graph corpora, depending on the \"view\" you want to have on your input data. This might come in handy in some cases."
   ]
  },
  {
   "cell_type": "markdown",
   "id": "632cbe4c",
   "metadata": {},
   "source": [
    "-----"
   ]
  },
  {
   "cell_type": "markdown",
   "id": "8b98ae6f",
   "metadata": {},
   "source": [
    "## Similarity functions"
   ]
  },
  {
   "cell_type": "markdown",
   "id": "bd46e212",
   "metadata": {},
   "source": [
    "Remember that we are now able to create a graph corpus from a single file, but that we still get an error message that says our configuration is missing a reasonable _sim_functions_ parameter.\n",
    "\n",
    "We will now use predefined similarity functions to get rid of this error message. We will learn afterwards how we can define our own similarity functions to be applied on the graph corpora created in the previous step.\n",
    "\n",
    "Finally, we will see how to run the conversion process on a list of files (e.g., created by the _CSV2JSON_ conversion)."
   ]
  },
  {
   "cell_type": "markdown",
   "id": "88227eb6",
   "metadata": {},
   "source": [
    "We re-run the previous function to see the error message again. We also change the _swap_ parameter (only because this runs a bit faster)."
   ]
  },
  {
   "cell_type": "code",
   "execution_count": 26,
   "id": "b18364ce",
   "metadata": {},
   "outputs": [
    {
     "data": {
      "application/vnd.jupyter.widget-view+json": {
       "model_id": "be60e5e6c9ea4ee3bc0eb0b2279dbdac",
       "version_major": 2,
       "version_minor": 0
      },
      "text/plain": [
       "  0%|          | 0/67 [00:00<?, ?it/s]"
      ]
     },
     "metadata": {},
     "output_type": "display_data"
    },
    {
     "ename": "TypeError",
     "evalue": "'NoneType' object is not iterable",
     "output_type": "error",
     "traceback": [
      "\u001b[0;31m---------------------------------------------------------------------------\u001b[0m",
      "\u001b[0;31mTypeError\u001b[0m                                 Traceback (most recent call last)",
      "\u001b[0;32m/tmp/ipykernel_18100/3767658260.py\u001b[0m in \u001b[0;36m<module>\u001b[0;34m\u001b[0m\n\u001b[1;32m      1\u001b[0m \u001b[0mj2e\u001b[0m\u001b[0;34m.\u001b[0m\u001b[0mconfig\u001b[0m\u001b[0;34m.\u001b[0m\u001b[0mswap\u001b[0m \u001b[0;34m=\u001b[0m \u001b[0;32mFalse\u001b[0m\u001b[0;34m\u001b[0m\u001b[0;34m\u001b[0m\u001b[0m\n\u001b[0;32m----> 2\u001b[0;31m \u001b[0mj2e\u001b[0m\u001b[0;34m.\u001b[0m\u001b[0mstart\u001b[0m\u001b[0;34m(\u001b[0m\u001b[0;34m)\u001b[0m\u001b[0;34m\u001b[0m\u001b[0;34m\u001b[0m\u001b[0m\n\u001b[0m",
      "\u001b[0;32m~/.cache/pypoetry/virtualenvs/cerl-thesaurus-Is9YIE1K-py3.8/lib/python3.8/site-packages/bibliometa/graph/conversion.py\u001b[0m in \u001b[0;36mstart\u001b[0;34m(self, n)\u001b[0m\n\u001b[1;32m     73\u001b[0m         \u001b[0;31m# Calculate similarity\u001b[0m\u001b[0;34m\u001b[0m\u001b[0;34m\u001b[0m\u001b[0;34m\u001b[0m\u001b[0m\n\u001b[1;32m     74\u001b[0m         \u001b[0mlogger\u001b[0m\u001b[0;34m.\u001b[0m\u001b[0minfo\u001b[0m\u001b[0;34m(\u001b[0m\u001b[0;34m\"Start similarity calculation.\"\u001b[0m\u001b[0;34m)\u001b[0m\u001b[0;34m\u001b[0m\u001b[0;34m\u001b[0m\u001b[0m\n\u001b[0;32m---> 75\u001b[0;31m         \u001b[0mSimilarity\u001b[0m\u001b[0;34m.\u001b[0m\u001b[0mcalculate\u001b[0m\u001b[0;34m(\u001b[0m\u001b[0mcorpus\u001b[0m\u001b[0;34m,\u001b[0m \u001b[0mself\u001b[0m\u001b[0;34m.\u001b[0m\u001b[0mconfig\u001b[0m\u001b[0;34m)\u001b[0m\u001b[0;34m\u001b[0m\u001b[0;34m\u001b[0m\u001b[0m\n\u001b[0m\u001b[1;32m     76\u001b[0m         \u001b[0mlogger\u001b[0m\u001b[0;34m.\u001b[0m\u001b[0minfo\u001b[0m\u001b[0;34m(\u001b[0m\u001b[0;34m\"Similarity calculation ended.\"\u001b[0m\u001b[0;34m)\u001b[0m\u001b[0;34m\u001b[0m\u001b[0;34m\u001b[0m\u001b[0m\n\u001b[1;32m     77\u001b[0m \u001b[0;34m\u001b[0m\u001b[0m\n",
      "\u001b[0;32m~/.cache/pypoetry/virtualenvs/cerl-thesaurus-Is9YIE1K-py3.8/lib/python3.8/site-packages/bibliometa/graph/similarity.py\u001b[0m in \u001b[0;36mcalculate\u001b[0;34m(corpus, config)\u001b[0m\n\u001b[1;32m     40\u001b[0m         \u001b[0;32mwith\u001b[0m \u001b[0mtqdm\u001b[0m\u001b[0;34m(\u001b[0m\u001b[0mtotal\u001b[0m\u001b[0;34m=\u001b[0m\u001b[0mprogress_max_value\u001b[0m\u001b[0;34m)\u001b[0m \u001b[0;32mas\u001b[0m \u001b[0mprogressbar\u001b[0m\u001b[0;34m:\u001b[0m\u001b[0;34m\u001b[0m\u001b[0;34m\u001b[0m\u001b[0m\n\u001b[1;32m     41\u001b[0m             \u001b[0;32mfor\u001b[0m \u001b[0mkey1\u001b[0m\u001b[0;34m,\u001b[0m \u001b[0mkey2\u001b[0m \u001b[0;32min\u001b[0m \u001b[0mitertools\u001b[0m\u001b[0;34m.\u001b[0m\u001b[0mcombinations\u001b[0m\u001b[0;34m(\u001b[0m\u001b[0mcorpus\u001b[0m\u001b[0;34m,\u001b[0m \u001b[0;36m2\u001b[0m\u001b[0;34m)\u001b[0m\u001b[0;34m:\u001b[0m\u001b[0;34m\u001b[0m\u001b[0;34m\u001b[0m\u001b[0m\n\u001b[0;32m---> 42\u001b[0;31m                 similarity_dict = Similarity._get_similarity(\n\u001b[0m\u001b[1;32m     43\u001b[0m                     \u001b[0mset\u001b[0m\u001b[0;34m(\u001b[0m\u001b[0mcorpus\u001b[0m\u001b[0;34m[\u001b[0m\u001b[0mkey1\u001b[0m\u001b[0;34m]\u001b[0m\u001b[0;34m)\u001b[0m\u001b[0;34m,\u001b[0m \u001b[0mset\u001b[0m\u001b[0;34m(\u001b[0m\u001b[0mcorpus\u001b[0m\u001b[0;34m[\u001b[0m\u001b[0mkey2\u001b[0m\u001b[0;34m]\u001b[0m\u001b[0;34m)\u001b[0m\u001b[0;34m,\u001b[0m \u001b[0mconfig\u001b[0m\u001b[0;34m.\u001b[0m\u001b[0msim_functions\u001b[0m\u001b[0;34m\u001b[0m\u001b[0;34m\u001b[0m\u001b[0m\n\u001b[1;32m     44\u001b[0m                 )\n",
      "\u001b[0;32m~/.cache/pypoetry/virtualenvs/cerl-thesaurus-Is9YIE1K-py3.8/lib/python3.8/site-packages/bibliometa/graph/similarity.py\u001b[0m in \u001b[0;36m_get_similarity\u001b[0;34m(a, b, sim_functions)\u001b[0m\n\u001b[1;32m     80\u001b[0m \u001b[0;34m\u001b[0m\u001b[0m\n\u001b[1;32m     81\u001b[0m         \u001b[0;31m# iterate over similarity functions, get arguments and call the function\u001b[0m\u001b[0;34m\u001b[0m\u001b[0;34m\u001b[0m\u001b[0;34m\u001b[0m\u001b[0m\n\u001b[0;32m---> 82\u001b[0;31m         \u001b[0;32mfor\u001b[0m \u001b[0msim_func\u001b[0m \u001b[0;32min\u001b[0m \u001b[0msim_functions\u001b[0m\u001b[0;34m:\u001b[0m\u001b[0;34m\u001b[0m\u001b[0;34m\u001b[0m\u001b[0m\n\u001b[0m\u001b[1;32m     83\u001b[0m             \u001b[0;32mif\u001b[0m \u001b[0;34m\"args\"\u001b[0m \u001b[0;32min\u001b[0m \u001b[0msim_func\u001b[0m\u001b[0;34m.\u001b[0m\u001b[0mkeys\u001b[0m\u001b[0;34m(\u001b[0m\u001b[0;34m)\u001b[0m\u001b[0;34m:\u001b[0m\u001b[0;34m\u001b[0m\u001b[0;34m\u001b[0m\u001b[0m\n\u001b[1;32m     84\u001b[0m                 \u001b[0;32mif\u001b[0m \u001b[0;34m\"f\"\u001b[0m \u001b[0;32min\u001b[0m \u001b[0msim_func\u001b[0m\u001b[0;34m[\u001b[0m\u001b[0;34m\"args\"\u001b[0m\u001b[0;34m]\u001b[0m\u001b[0;34m:\u001b[0m\u001b[0;34m\u001b[0m\u001b[0;34m\u001b[0m\u001b[0m\n",
      "\u001b[0;31mTypeError\u001b[0m: 'NoneType' object is not iterable"
     ]
    }
   ],
   "source": [
    "j2e.config.swap = False\n",
    "j2e.start()"
   ]
  },
  {
   "cell_type": "markdown",
   "id": "576307bf",
   "metadata": {},
   "source": [
    "We still get the error message that our configuration is missing a value for the parameter _sim_functions_. Why exists this configuration parameter?\n",
    "\n",
    "__sim_functions__ (list of dict): Similarity functions\n",
    "* This parameter provides a list of dictionaries. Each dictionary contains the configuration for a similarity function. Example:\n",
    "\n",
    "  `{\n",
    "    'name': 'oned',\n",
    "    'function': Similarity.mint,\n",
    "    'args': {'f': 1, 't': 1}\n",
    "  }`\n",
    "    \n",
    "    Each similarity function needs a \"name\" (which can be any string), a \"function\" (which needs to be defined either in the __Bibliometa__ package or otherwise), and two arguments (\"args\") \"f\" and \"t\". The argument \"f\" defines the value that is returned when two sets a and b are compared according to their similarity; the parameter \"t\" defines a threshold that needs to be reached to return the value defined by \"f\". If the result of f is <= t, a similarity of 0 will be returned."
   ]
  },
  {
   "cell_type": "markdown",
   "id": "5ff2e688",
   "metadata": {},
   "source": [
    "We already have three similarity functions available in the __Bibliometa__ package:"
   ]
  },
  {
   "cell_type": "code",
   "execution_count": 27,
   "id": "e0d51dc1",
   "metadata": {},
   "outputs": [
    {
     "data": {
      "text/plain": [
       "['jaccard', 'mint', 'overlap']"
      ]
     },
     "execution_count": 27,
     "metadata": {},
     "output_type": "execute_result"
    }
   ],
   "source": [
    "from bibliometa.graph.similarity import Similarity\n",
    "[m for m in dir(Similarity.Functions) if not m.startswith('_')]"
   ]
  },
  {
   "cell_type": "markdown",
   "id": "fc96da86",
   "metadata": {},
   "source": [
    "Note that three predefined functions are available in the _Functions_ class which is a class __inside__ the _Similarity_ class: _jaccard()_, _mint()_, and _overlap()_.\n",
    "\n",
    "You may be interested in the help text of these functions:"
   ]
  },
  {
   "cell_type": "code",
   "execution_count": 28,
   "id": "b02cce1b",
   "metadata": {},
   "outputs": [
    {
     "name": "stdout",
     "output_type": "stream",
     "text": [
      "Help on function jaccard in module bibliometa.graph.similarity:\n",
      "\n",
      "jaccard(a, b, f, t=0)\n",
      "    The Jaccard Index. a and b are considered similar if the size of their intersection divided by their\n",
      "    union is greater than or equal to t.\n",
      "    \n",
      "    :param a: Set of values for item a\n",
      "    :type a: `set`\n",
      "    :param b: Set of values for item b\n",
      "    :type b: `set`\n",
      "    :param f: This value (or the result of this function) will be returned if similarity between\n",
      "        a and b >= t\n",
      "    :type f: function or `int`\n",
      "    :param t: Threshold\n",
      "    :type t: `int`\n",
      "    :return: Similarity value\n",
      "    :rtype: `float` or `int`\n",
      "    :raise ValueError: If f is neither a function nor an `int` or `float`\n",
      "\n"
     ]
    }
   ],
   "source": [
    "help(Similarity.Functions.jaccard)"
   ]
  },
  {
   "cell_type": "markdown",
   "id": "0550998f",
   "metadata": {},
   "source": [
    "Or maybe even the source code is of interest:"
   ]
  },
  {
   "cell_type": "code",
   "execution_count": 29,
   "id": "a07dc40e",
   "metadata": {},
   "outputs": [],
   "source": [
    "Similarity.Functions.jaccard??"
   ]
  },
  {
   "cell_type": "markdown",
   "id": "74091b00",
   "metadata": {},
   "source": [
    "For the moment, it is enough to know that you can use these predefined functions in defining your similarity functions. So let's set three functions in our configuration:"
   ]
  },
  {
   "cell_type": "code",
   "execution_count": 30,
   "id": "cfd44358",
   "metadata": {},
   "outputs": [],
   "source": [
    "SIM_FUNCTIONS = [\n",
    "    {\"name\": \"mint_1\",\n",
    "     \"function\": Similarity.Functions.mint,\n",
    "     \"args\": {\n",
    "         \"f\": lambda a, b: len(list(a.intersection(b))),\n",
    "         \"t\": 1}\n",
    "     },\n",
    "    {\"name\": \"jacc\",\n",
    "     \"function\": Similarity.Functions.jaccard,\n",
    "     \"args\": {\n",
    "         \"f\": lambda a: round(a, 4),\n",
    "         \"t\": 0}\n",
    "     },\n",
    "    {\"name\": \"ovlp\",\n",
    "     \"function\": Similarity.Functions.overlap,\n",
    "     \"args\": {\n",
    "         \"f\": lambda a: round(a, 4),\n",
    "         \"t\": 0}\n",
    "     },\n",
    "]\n",
    "# The function \"mint_1\" will return the length of the intersection of a and b (\"f\")\n",
    "# only if it is greater than or equal to 1 (\"t\" == threshold).\n",
    "# For \"jacc\" and \"ovlp\", the function \"f\" is applied on the resulting value before it is returned.\n",
    "# That means that the result of these functions is rounded to 4 digits after the decimal point."
   ]
  },
  {
   "cell_type": "code",
   "execution_count": 31,
   "id": "afa9eca1",
   "metadata": {},
   "outputs": [
    {
     "data": {
      "text/plain": [
       "[{'name': 'mint_1',\n",
       "  'function': <function bibliometa.graph.similarity.Similarity.Functions.mint(a, b, f, t=0)>,\n",
       "  'args': {'f': <function __main__.<lambda>(a, b)>, 't': 1}},\n",
       " {'name': 'jacc',\n",
       "  'function': <function bibliometa.graph.similarity.Similarity.Functions.jaccard(a, b, f, t=0)>,\n",
       "  'args': {'f': <function __main__.<lambda>(a)>, 't': 0}},\n",
       " {'name': 'ovlp',\n",
       "  'function': <function bibliometa.graph.similarity.Similarity.Functions.overlap(a, b, f, t=0)>,\n",
       "  'args': {'f': <function __main__.<lambda>(a)>, 't': 0}}]"
      ]
     },
     "execution_count": 31,
     "metadata": {},
     "output_type": "execute_result"
    }
   ],
   "source": [
    "j2e.config.sim_functions = SIM_FUNCTIONS\n",
    "j2e.config.sim_functions"
   ]
  },
  {
   "cell_type": "markdown",
   "id": "764b2341",
   "metadata": {},
   "source": [
    "After having defined three similarity functions we can try to start the conversion again. Just to be clear about our configuration, we show it on screen first:"
   ]
  },
  {
   "cell_type": "code",
   "execution_count": 32,
   "id": "bbd82ff1",
   "metadata": {},
   "outputs": [
    {
     "data": {
      "text/plain": [
       "('i', '../data/examples/demo_1700.json')\n",
       "('o', '../data/output/similarity/similarity.csv')\n",
       "('create_corpus', True)\n",
       "('corpus', '../data/output/graph_corpus/graph_corpus.json')\n",
       "('name', '')\n",
       "('fields', [('515', 'a')])\n",
       "('swap', False)\n",
       "('sim_functions', [{'name': 'mint_1', 'function': <function Similarity.Functions.mint at 0x7fcf7b0e1940>, 'args': {'f': <function <lambda> at 0x7fcf79daedc0>, 't': 1}}, {'name': 'jacc', 'function': <function Similarity.Functions.jaccard at 0x7fcf7b0e19d0>, 'args': {'f': <function <lambda> at 0x7fcf79daec10>, 't': 0}}, {'name': 'ovlp', 'function': <function Similarity.Functions.overlap at 0x7fcf7b0e1a60>, 'args': {'f': <function <lambda> at 0x7fcf79daeb80>, 't': 0}}])\n",
       "('archive', True)\n",
       "('archive_ext', '.tar.gz')\n",
       "('csv_sep', '\\t')\n",
       "('log', '../data/logs/json2edgelist_demo.out')\n",
       "('log_level_std', 'INFO')\n",
       "('log_level_file', 'DEBUG')\n",
       "('verbose', False)\n",
       "('encoding', 'utf-8')"
      ]
     },
     "execution_count": 32,
     "metadata": {},
     "output_type": "execute_result"
    }
   ],
   "source": [
    "j2e.get_config()"
   ]
  },
  {
   "cell_type": "markdown",
   "id": "8aaec4b4",
   "metadata": {},
   "source": [
    "Looks fine. We can start the conversion:"
   ]
  },
  {
   "cell_type": "code",
   "execution_count": 33,
   "id": "216d8035",
   "metadata": {},
   "outputs": [
    {
     "data": {
      "application/vnd.jupyter.widget-view+json": {
       "model_id": "7a9c0e5f6f5f4ea9a07a83ab6b3014d3",
       "version_major": 2,
       "version_minor": 0
      },
      "text/plain": [
       "  0%|          | 0/67 [00:00<?, ?it/s]"
      ]
     },
     "metadata": {},
     "output_type": "display_data"
    }
   ],
   "source": [
    "j2e.start() "
   ]
  },
  {
   "cell_type": "markdown",
   "id": "aebc1cda",
   "metadata": {},
   "source": [
    "No error message! (hopefully)"
   ]
  },
  {
   "cell_type": "markdown",
   "id": "493313a8",
   "metadata": {},
   "source": [
    "-----"
   ]
  },
  {
   "cell_type": "markdown",
   "id": "d4d3fc0f",
   "metadata": {},
   "source": [
    "## Output files"
   ]
  },
  {
   "cell_type": "markdown",
   "id": "d49b6488",
   "metadata": {},
   "source": [
    "So let's see if all output files were created as desired."
   ]
  },
  {
   "cell_type": "code",
   "execution_count": 34,
   "id": "5e8ba2e6",
   "metadata": {},
   "outputs": [
    {
     "data": {
      "text/plain": [
       "['graph_corpus.json']"
      ]
     },
     "execution_count": 34,
     "metadata": {},
     "output_type": "execute_result"
    }
   ],
   "source": [
    "os.listdir(os.path.dirname(j2e.config.corpus))"
   ]
  },
  {
   "cell_type": "code",
   "execution_count": 35,
   "id": "49966d87",
   "metadata": {},
   "outputs": [
    {
     "data": {
      "text/plain": [
       "[('cnp01287518', ['Breslau']),\n",
       " ('cnp01287801', ['Helmstedt']),\n",
       " ('cnp01417221', ['Bayreuth', 'Schleusingen']),\n",
       " ('cnp01418335', ['Halle']),\n",
       " ('cnp01289912', ['Venedig'])]"
      ]
     },
     "execution_count": 35,
     "metadata": {},
     "output_type": "execute_result"
    }
   ],
   "source": [
    "with open(j2e.config.corpus, \"r\", encoding=j2e.config.encoding) as f:\n",
    "    d = json.load(f)\n",
    "list(d.items())[:5]"
   ]
  },
  {
   "cell_type": "markdown",
   "id": "155623a2",
   "metadata": {},
   "source": [
    "The graph corpus looks good. How about the output similarity file? Remember its definition in the configuration:"
   ]
  },
  {
   "cell_type": "code",
   "execution_count": 36,
   "id": "7e67f619",
   "metadata": {},
   "outputs": [
    {
     "data": {
      "text/plain": [
       "'../data/output/similarity/similarity.csv'"
      ]
     },
     "execution_count": 36,
     "metadata": {},
     "output_type": "execute_result"
    }
   ],
   "source": [
    "j2e.config.o"
   ]
  },
  {
   "cell_type": "code",
   "execution_count": 37,
   "id": "076088ef",
   "metadata": {},
   "outputs": [
    {
     "data": {
      "text/plain": [
       "['similarity.csv', 'similarity.tar.gz']"
      ]
     },
     "execution_count": 37,
     "metadata": {},
     "output_type": "execute_result"
    }
   ],
   "source": [
    "os.listdir(os.path.dirname(j2e.config.o))"
   ]
  },
  {
   "cell_type": "markdown",
   "id": "6b915f03",
   "metadata": {},
   "source": [
    "Wait, why are there two files?\n",
    "\n",
    "To improve the efficiency of subsequent graph analysis, the _JSON2EdgeList_ conversion automatically creates a \".tar.gz\" archive if you did not configure it otherwise. This can be switched on or off in the configuration:"
   ]
  },
  {
   "cell_type": "code",
   "execution_count": 38,
   "id": "850d8241",
   "metadata": {},
   "outputs": [
    {
     "data": {
      "text/plain": [
       "('i', '../data/examples/demo_1700.json')\n",
       "('o', '../data/output/similarity/similarity.csv')\n",
       "('create_corpus', True)\n",
       "('corpus', '../data/output/graph_corpus/graph_corpus.json')\n",
       "('name', '')\n",
       "('fields', [('515', 'a')])\n",
       "('swap', False)\n",
       "('sim_functions', [{'name': 'mint_1', 'function': <function Similarity.Functions.mint at 0x7fcf7b0e1940>, 'args': {'f': <function <lambda> at 0x7fcf79daedc0>, 't': 1}}, {'name': 'jacc', 'function': <function Similarity.Functions.jaccard at 0x7fcf7b0e19d0>, 'args': {'f': <function <lambda> at 0x7fcf79daec10>, 't': 0}}, {'name': 'ovlp', 'function': <function Similarity.Functions.overlap at 0x7fcf7b0e1a60>, 'args': {'f': <function <lambda> at 0x7fcf79daeb80>, 't': 0}}])\n",
       "('archive', True)\n",
       "('archive_ext', '.tar.gz')\n",
       "('csv_sep', '\\t')\n",
       "('log', '../data/logs/json2edgelist_demo.out')\n",
       "('log_level_std', 'INFO')\n",
       "('log_level_file', 'DEBUG')\n",
       "('verbose', False)\n",
       "('encoding', 'utf-8')"
      ]
     },
     "execution_count": 38,
     "metadata": {},
     "output_type": "execute_result"
    }
   ],
   "source": [
    "j2e.get_config()"
   ]
  },
  {
   "cell_type": "markdown",
   "id": "3e2312f6",
   "metadata": {},
   "source": [
    "__archive__ (bool): Whether the similarity file is put into an archive\n",
    "* If this parameter is True, the similarity CSV file is also put into an archive.\n",
    "\n",
    "__archive_ext__ (str): File extension of archive\n",
    "* This is the type of archive that will be used. This parameter has no effect if _archive_ == False. Note: Currently only \".tar.gz\" archives are supported!\n",
    "\n",
    "__csv_sep__ (str): CSV separator\n",
    "* CSV separator used in output similarity CSV file"
   ]
  },
  {
   "cell_type": "markdown",
   "id": "8dc8b3e8",
   "metadata": {},
   "source": [
    "The output CSV looks as follows:"
   ]
  },
  {
   "cell_type": "code",
   "execution_count": 39,
   "id": "bb348cac",
   "metadata": {},
   "outputs": [
    {
     "data": {
      "text/html": [
       "<div>\n",
       "<style scoped>\n",
       "    .dataframe tbody tr th:only-of-type {\n",
       "        vertical-align: middle;\n",
       "    }\n",
       "\n",
       "    .dataframe tbody tr th {\n",
       "        vertical-align: top;\n",
       "    }\n",
       "\n",
       "    .dataframe thead th {\n",
       "        text-align: right;\n",
       "    }\n",
       "</style>\n",
       "<table border=\"1\" class=\"dataframe\">\n",
       "  <thead>\n",
       "    <tr style=\"text-align: right;\">\n",
       "      <th></th>\n",
       "      <th>1</th>\n",
       "      <th>2</th>\n",
       "      <th>3</th>\n",
       "      <th>4</th>\n",
       "      <th>5</th>\n",
       "    </tr>\n",
       "    <tr>\n",
       "      <th>0</th>\n",
       "      <th></th>\n",
       "      <th></th>\n",
       "      <th></th>\n",
       "      <th></th>\n",
       "      <th></th>\n",
       "    </tr>\n",
       "  </thead>\n",
       "  <tbody>\n",
       "    <tr>\n",
       "      <th>284</th>\n",
       "      <td>cnp01287518</td>\n",
       "      <td>cnp01130525</td>\n",
       "      <td>1</td>\n",
       "      <td>0.2000</td>\n",
       "      <td>1.0</td>\n",
       "    </tr>\n",
       "    <tr>\n",
       "      <th>380</th>\n",
       "      <td>cnp01287518</td>\n",
       "      <td>cnp00654099</td>\n",
       "      <td>1</td>\n",
       "      <td>0.5000</td>\n",
       "      <td>1.0</td>\n",
       "    </tr>\n",
       "    <tr>\n",
       "      <th>414</th>\n",
       "      <td>cnp01287518</td>\n",
       "      <td>cnp00523315</td>\n",
       "      <td>1</td>\n",
       "      <td>1.0000</td>\n",
       "      <td>1.0</td>\n",
       "    </tr>\n",
       "    <tr>\n",
       "      <th>415</th>\n",
       "      <td>cnp01287518</td>\n",
       "      <td>cnp00682190</td>\n",
       "      <td>1</td>\n",
       "      <td>0.3333</td>\n",
       "      <td>1.0</td>\n",
       "    </tr>\n",
       "    <tr>\n",
       "      <th>437</th>\n",
       "      <td>cnp01287518</td>\n",
       "      <td>cnp00649657</td>\n",
       "      <td>1</td>\n",
       "      <td>1.0000</td>\n",
       "      <td>1.0</td>\n",
       "    </tr>\n",
       "  </tbody>\n",
       "</table>\n",
       "</div>"
      ],
      "text/plain": [
       "               1            2  3       4    5\n",
       "0                                            \n",
       "284  cnp01287518  cnp01130525  1  0.2000  1.0\n",
       "380  cnp01287518  cnp00654099  1  0.5000  1.0\n",
       "414  cnp01287518  cnp00523315  1  1.0000  1.0\n",
       "415  cnp01287518  cnp00682190  1  0.3333  1.0\n",
       "437  cnp01287518  cnp00649657  1  1.0000  1.0"
      ]
     },
     "execution_count": 39,
     "metadata": {},
     "output_type": "execute_result"
    }
   ],
   "source": [
    "import pandas as pd\n",
    "\n",
    "with open(j2e.config.o, \"r\", encoding=j2e.config.encoding) as f:\n",
    "    df = pd.read_csv(f, sep=j2e.config.csv_sep, header=None, index_col=0)\n",
    "    \n",
    "df.head()"
   ]
  },
  {
   "cell_type": "markdown",
   "id": "4de81590",
   "metadata": {},
   "source": [
    "The first column is the row ID, the second and third column contain two nodes of the graph. After this, there is one column for each similarity function. The columns have the same order as the functions are defined in the _sim_functions_ configuration parameter. (In this case, first _mint_1_, then _jacc_, then _ovlp_.)\n",
    "\n",
    "We can filter the data based on certain values. For example, to get only those rows where the jaccard function returned a value greater than 0.5, we could do the following:"
   ]
  },
  {
   "cell_type": "code",
   "execution_count": 40,
   "id": "7eb96837",
   "metadata": {},
   "outputs": [
    {
     "data": {
      "text/html": [
       "<div>\n",
       "<style scoped>\n",
       "    .dataframe tbody tr th:only-of-type {\n",
       "        vertical-align: middle;\n",
       "    }\n",
       "\n",
       "    .dataframe tbody tr th {\n",
       "        vertical-align: top;\n",
       "    }\n",
       "\n",
       "    .dataframe thead th {\n",
       "        text-align: right;\n",
       "    }\n",
       "</style>\n",
       "<table border=\"1\" class=\"dataframe\">\n",
       "  <thead>\n",
       "    <tr style=\"text-align: right;\">\n",
       "      <th></th>\n",
       "      <th>1</th>\n",
       "      <th>2</th>\n",
       "      <th>3</th>\n",
       "      <th>4</th>\n",
       "      <th>5</th>\n",
       "    </tr>\n",
       "    <tr>\n",
       "      <th>0</th>\n",
       "      <th></th>\n",
       "      <th></th>\n",
       "      <th></th>\n",
       "      <th></th>\n",
       "      <th></th>\n",
       "    </tr>\n",
       "  </thead>\n",
       "  <tbody>\n",
       "    <tr>\n",
       "      <th>414</th>\n",
       "      <td>cnp01287518</td>\n",
       "      <td>cnp00523315</td>\n",
       "      <td>1</td>\n",
       "      <td>1.0</td>\n",
       "      <td>1.0</td>\n",
       "    </tr>\n",
       "    <tr>\n",
       "      <th>437</th>\n",
       "      <td>cnp01287518</td>\n",
       "      <td>cnp00649657</td>\n",
       "      <td>1</td>\n",
       "      <td>1.0</td>\n",
       "      <td>1.0</td>\n",
       "    </tr>\n",
       "    <tr>\n",
       "      <th>486</th>\n",
       "      <td>cnp01287518</td>\n",
       "      <td>cnp00483281</td>\n",
       "      <td>1</td>\n",
       "      <td>1.0</td>\n",
       "      <td>1.0</td>\n",
       "    </tr>\n",
       "    <tr>\n",
       "      <th>1261</th>\n",
       "      <td>cnp01287801</td>\n",
       "      <td>cnp01277806</td>\n",
       "      <td>1</td>\n",
       "      <td>1.0</td>\n",
       "      <td>1.0</td>\n",
       "    </tr>\n",
       "    <tr>\n",
       "      <th>1380</th>\n",
       "      <td>cnp01287801</td>\n",
       "      <td>cnp01223930</td>\n",
       "      <td>1</td>\n",
       "      <td>1.0</td>\n",
       "      <td>1.0</td>\n",
       "    </tr>\n",
       "    <tr>\n",
       "      <th>...</th>\n",
       "      <td>...</td>\n",
       "      <td>...</td>\n",
       "      <td>...</td>\n",
       "      <td>...</td>\n",
       "      <td>...</td>\n",
       "    </tr>\n",
       "    <tr>\n",
       "      <th>676547</th>\n",
       "      <td>cnp01346309</td>\n",
       "      <td>cnp02232017</td>\n",
       "      <td>1</td>\n",
       "      <td>1.0</td>\n",
       "      <td>1.0</td>\n",
       "    </tr>\n",
       "    <tr>\n",
       "      <th>676676</th>\n",
       "      <td>cnp02231699</td>\n",
       "      <td>cnp02232017</td>\n",
       "      <td>1</td>\n",
       "      <td>1.0</td>\n",
       "      <td>1.0</td>\n",
       "    </tr>\n",
       "    <tr>\n",
       "      <th>676831</th>\n",
       "      <td>cnp02162198</td>\n",
       "      <td>cnp02162203</td>\n",
       "      <td>1</td>\n",
       "      <td>1.0</td>\n",
       "      <td>1.0</td>\n",
       "    </tr>\n",
       "    <tr>\n",
       "      <th>676835</th>\n",
       "      <td>cnp02162198</td>\n",
       "      <td>cnp02162197</td>\n",
       "      <td>1</td>\n",
       "      <td>1.0</td>\n",
       "      <td>1.0</td>\n",
       "    </tr>\n",
       "    <tr>\n",
       "      <th>676848</th>\n",
       "      <td>cnp02162203</td>\n",
       "      <td>cnp02162197</td>\n",
       "      <td>1</td>\n",
       "      <td>1.0</td>\n",
       "      <td>1.0</td>\n",
       "    </tr>\n",
       "  </tbody>\n",
       "</table>\n",
       "<p>7194 rows × 5 columns</p>\n",
       "</div>"
      ],
      "text/plain": [
       "                  1            2  3    4    5\n",
       "0                                            \n",
       "414     cnp01287518  cnp00523315  1  1.0  1.0\n",
       "437     cnp01287518  cnp00649657  1  1.0  1.0\n",
       "486     cnp01287518  cnp00483281  1  1.0  1.0\n",
       "1261    cnp01287801  cnp01277806  1  1.0  1.0\n",
       "1380    cnp01287801  cnp01223930  1  1.0  1.0\n",
       "...             ...          ... ..  ...  ...\n",
       "676547  cnp01346309  cnp02232017  1  1.0  1.0\n",
       "676676  cnp02231699  cnp02232017  1  1.0  1.0\n",
       "676831  cnp02162198  cnp02162203  1  1.0  1.0\n",
       "676835  cnp02162198  cnp02162197  1  1.0  1.0\n",
       "676848  cnp02162203  cnp02162197  1  1.0  1.0\n",
       "\n",
       "[7194 rows x 5 columns]"
      ]
     },
     "execution_count": 40,
     "metadata": {},
     "output_type": "execute_result"
    }
   ],
   "source": [
    "jacc = df[df[4] > 0.5]\n",
    "jacc"
   ]
  },
  {
   "cell_type": "markdown",
   "id": "4d26eb74",
   "metadata": {},
   "source": [
    "We can also compare how many data sets achieved a certain similarity score:"
   ]
  },
  {
   "cell_type": "code",
   "execution_count": 41,
   "id": "9637ac33",
   "metadata": {},
   "outputs": [
    {
     "name": "stdout",
     "output_type": "stream",
     "text": [
      "Rows with jaccard > 0.5: 7194\n",
      "Rows with overlap < 0.5: 66\n",
      "Rows with overlap == 1: 11392\n"
     ]
    }
   ],
   "source": [
    "ovlp = df[df[5] < 0.5]\n",
    "print(f\"Rows with jaccard > 0.5: {jacc.shape[0]}\")\n",
    "print(f\"Rows with overlap < 0.5: {ovlp.shape[0]}\")\n",
    "ovlp = df[df[5] == 1]\n",
    "print(f\"Rows with overlap == 1: {ovlp.shape[0]}\")"
   ]
  },
  {
   "cell_type": "markdown",
   "id": "35f8e32c",
   "metadata": {},
   "source": [
    "-----"
   ]
  },
  {
   "cell_type": "markdown",
   "id": "6201ec0a",
   "metadata": {},
   "source": [
    "## Logging, encoding, verbose"
   ]
  },
  {
   "cell_type": "markdown",
   "id": "0737fe10",
   "metadata": {},
   "source": [
    "There are only a couple of configuration parameters left, let's have a look at them."
   ]
  },
  {
   "cell_type": "code",
   "execution_count": 42,
   "id": "c8d2c8fe",
   "metadata": {},
   "outputs": [
    {
     "data": {
      "text/plain": [
       "('i', '../data/examples/demo_1700.json')\n",
       "('o', '../data/output/similarity/similarity.csv')\n",
       "('create_corpus', True)\n",
       "('corpus', '../data/output/graph_corpus/graph_corpus.json')\n",
       "('name', '')\n",
       "('fields', [('515', 'a')])\n",
       "('swap', False)\n",
       "('sim_functions', [{'name': 'mint_1', 'function': <function Similarity.Functions.mint at 0x7fcf7b0e1940>, 'args': {'f': <function <lambda> at 0x7fcf79daedc0>, 't': 1}}, {'name': 'jacc', 'function': <function Similarity.Functions.jaccard at 0x7fcf7b0e19d0>, 'args': {'f': <function <lambda> at 0x7fcf79daec10>, 't': 0}}, {'name': 'ovlp', 'function': <function Similarity.Functions.overlap at 0x7fcf7b0e1a60>, 'args': {'f': <function <lambda> at 0x7fcf79daeb80>, 't': 0}}])\n",
       "('archive', True)\n",
       "('archive_ext', '.tar.gz')\n",
       "('csv_sep', '\\t')\n",
       "('log', '../data/logs/json2edgelist_demo.out')\n",
       "('log_level_std', 'INFO')\n",
       "('log_level_file', 'DEBUG')\n",
       "('verbose', False)\n",
       "('encoding', 'utf-8')"
      ]
     },
     "execution_count": 42,
     "metadata": {},
     "output_type": "execute_result"
    }
   ],
   "source": [
    "j2e.get_config()"
   ]
  },
  {
   "cell_type": "markdown",
   "id": "b9303aa4",
   "metadata": {},
   "source": [
    "__log__ (str): Path to log file\n",
    "* The conversion process and its errors are documented in a log file. If _verbose_ == True (see below), the logging information is also shown on standard output if its level is _log_level_std_ or above.\n",
    "\n",
    "__log_level_std__ (str): Logging level considered for standard output\n",
    "* Only log messages with this level (or above) are shown on the standard output. This parameter has no effect if _verbose_ == False. Possible severity levels can be found in the documentation of the logging package `loguru`: https://loguru.readthedocs.io/en/stable/api/logger.html\n",
    "\n",
    "__log_level_file__ (str): Logging level considered for log file\n",
    "* Only log messages with this level (or above) are shown in the log file.\n",
    "\n",
    "__verbose__ (bool): Show detailed information on standard output\n",
    "* Whether logging information is not only written to the log file but also shown on the standard output.\n",
    "\n",
    "__encoding__ (str): File encoding\n",
    "* File encoding of input and output files. The default value is \"utf-8\" and there is usually no need to change this."
   ]
  },
  {
   "cell_type": "markdown",
   "id": "28785ea9",
   "metadata": {},
   "source": [
    "We can see what's in the log file and check if everything went as expected:"
   ]
  },
  {
   "cell_type": "code",
   "execution_count": 43,
   "id": "6059725a",
   "metadata": {},
   "outputs": [
    {
     "data": {
      "text/plain": [
       "['2021-07-28T15:41:00.274425+0200 INFO Start JSON2EdgeList conversion.',\n",
       " '2021-07-28T15:41:00.650325+0200 INFO Start JSON2EdgeList conversion.',\n",
       " '2021-07-28T15:41:02.023603+0200 INFO Start JSON2EdgeList conversion.',\n",
       " '2021-07-28T15:41:02.030828+0200 DEBUG Corpus keys: 1164',\n",
       " '2021-07-28T15:41:02.035515+0200 DEBUG Unique values: 552',\n",
       " '2021-07-28T15:41:02.046869+0200 INFO Corpus written to file ../data/output/graph_corpus/graph_corpus.json.',\n",
       " '2021-07-28T15:41:02.049565+0200 INFO Start similarity calculation.',\n",
       " '2021-07-28T15:41:03.103462+0200 INFO Start JSON2EdgeList conversion.',\n",
       " '2021-07-28T15:41:05.382170+0200 DEBUG Corpus keys: 552',\n",
       " '2021-07-28T15:41:05.392618+0200 INFO Corpus written to file ../data/output/graph_corpus/graph_corpus.json.',\n",
       " '2021-07-28T15:41:05.392939+0200 INFO Start similarity calculation.',\n",
       " '2021-07-28T15:41:17.868326+0200 INFO Start JSON2EdgeList conversion.',\n",
       " '2021-07-28T15:41:17.884078+0200 DEBUG Corpus keys: 1164',\n",
       " '2021-07-28T15:41:17.884349+0200 DEBUG Unique values: 552',\n",
       " '2021-07-28T15:41:17.898058+0200 INFO Corpus written to file ../data/output/graph_corpus/graph_corpus.json.',\n",
       " '2021-07-28T15:41:17.899281+0200 INFO Start similarity calculation.',\n",
       " '2021-07-28T15:41:25.109413+0200 INFO Start JSON2EdgeList conversion.',\n",
       " '2021-07-28T15:41:25.125382+0200 DEBUG Corpus keys: 1164',\n",
       " '2021-07-28T15:41:25.127936+0200 DEBUG Unique values: 552',\n",
       " '2021-07-28T15:41:25.140907+0200 INFO Corpus written to file ../data/output/graph_corpus/graph_corpus.json.',\n",
       " '2021-07-28T15:41:25.141995+0200 INFO Start similarity calculation.',\n",
       " '2021-07-28T15:41:40.130626+0200 INFO (Temporary) Results written to file ../data/output/similarity/similarity.csv.',\n",
       " '2021-07-28T15:41:40.131603+0200 INFO Progress written to file ../data/logs/json2edgelist_demo.out.',\n",
       " '2021-07-28T15:41:40.133129+0200 INFO Similarity calculation ended.',\n",
       " \"2021-07-28T15:41:40.133230+0200 INFO Putting similarity files into '.tar.gz' archives.\",\n",
       " \"2021-07-28T15:41:40.242518+0200 INFO Similarity '.tar.gz' archive can now be found in ../data/output/similarity/similarity.tar.gz.\"]"
      ]
     },
     "execution_count": 43,
     "metadata": {},
     "output_type": "execute_result"
    }
   ],
   "source": [
    "with open(j2e.config.log, \"r\", encoding=j2e.config.encoding) as f:\n",
    "    log_text = f.read().splitlines()\n",
    "\n",
    "log_text"
   ]
  },
  {
   "cell_type": "markdown",
   "id": "890bccc3",
   "metadata": {},
   "source": [
    "-----"
   ]
  },
  {
   "cell_type": "markdown",
   "id": "15cf033c",
   "metadata": {},
   "source": [
    "## Custom similarity functions"
   ]
  },
  {
   "cell_type": "markdown",
   "id": "8b3b6421",
   "metadata": {},
   "source": [
    "You can define your own similiarity function outside of __Bibliometa__'s source code. Just make sure that you have all necessary parameters a, b, f, and t in the function definition."
   ]
  },
  {
   "cell_type": "code",
   "execution_count": 44,
   "id": "dce392e1",
   "metadata": {},
   "outputs": [],
   "source": [
    "# This function returns the value f if one or more elements from set a can be found in set b. \n",
    "# Otherwise it returns 0.111.\n",
    "# That means EVERY combination of two nodes has a similarity!\n",
    "def custom_function(a, b, f, t=0):\n",
    "    return f if any(x in b for x in a) else 0.111"
   ]
  },
  {
   "cell_type": "markdown",
   "id": "10fc4314",
   "metadata": {},
   "source": [
    "After defining a similarity function, add it to the _JSON2EdgeList_ configuration:"
   ]
  },
  {
   "cell_type": "code",
   "execution_count": 45,
   "id": "2d0610d9",
   "metadata": {},
   "outputs": [],
   "source": [
    "SIM_FUNCTIONS = [\n",
    "    {\"name\": \"custom\",\n",
    "     \"function\": custom_function,\n",
    "     \"args\": {\n",
    "         \"f\": 0.99,\n",
    "         \"t\": 1}\n",
    "     }\n",
    "]"
   ]
  },
  {
   "cell_type": "code",
   "execution_count": 46,
   "id": "b5981fe1",
   "metadata": {},
   "outputs": [],
   "source": [
    "j2e.config.sim_functions = SIM_FUNCTIONS"
   ]
  },
  {
   "cell_type": "markdown",
   "id": "a871e7d1",
   "metadata": {},
   "source": [
    "Then start the conversion:"
   ]
  },
  {
   "cell_type": "code",
   "execution_count": 47,
   "id": "75ab4da5",
   "metadata": {},
   "outputs": [
    {
     "data": {
      "application/vnd.jupyter.widget-view+json": {
       "model_id": "d41bc524f9a24a338501c690638de375",
       "version_major": 2,
       "version_minor": 0
      },
      "text/plain": [
       "  0%|          | 0/67 [00:00<?, ?it/s]"
      ]
     },
     "metadata": {},
     "output_type": "display_data"
    }
   ],
   "source": [
    "j2e.start()"
   ]
  },
  {
   "cell_type": "markdown",
   "id": "50df1399",
   "metadata": {},
   "source": [
    "Finally, check the produced similarity file:"
   ]
  },
  {
   "cell_type": "code",
   "execution_count": 48,
   "id": "ac8d0cc2",
   "metadata": {},
   "outputs": [
    {
     "data": {
      "text/html": [
       "<div>\n",
       "<style scoped>\n",
       "    .dataframe tbody tr th:only-of-type {\n",
       "        vertical-align: middle;\n",
       "    }\n",
       "\n",
       "    .dataframe tbody tr th {\n",
       "        vertical-align: top;\n",
       "    }\n",
       "\n",
       "    .dataframe thead th {\n",
       "        text-align: right;\n",
       "    }\n",
       "</style>\n",
       "<table border=\"1\" class=\"dataframe\">\n",
       "  <thead>\n",
       "    <tr style=\"text-align: right;\">\n",
       "      <th></th>\n",
       "      <th>1</th>\n",
       "      <th>2</th>\n",
       "      <th>3</th>\n",
       "    </tr>\n",
       "    <tr>\n",
       "      <th>0</th>\n",
       "      <th></th>\n",
       "      <th></th>\n",
       "      <th></th>\n",
       "    </tr>\n",
       "  </thead>\n",
       "  <tbody>\n",
       "    <tr>\n",
       "      <th>0</th>\n",
       "      <td>cnp01287518</td>\n",
       "      <td>cnp01287801</td>\n",
       "      <td>0.111</td>\n",
       "    </tr>\n",
       "    <tr>\n",
       "      <th>1</th>\n",
       "      <td>cnp01287518</td>\n",
       "      <td>cnp01417221</td>\n",
       "      <td>0.111</td>\n",
       "    </tr>\n",
       "    <tr>\n",
       "      <th>2</th>\n",
       "      <td>cnp01287518</td>\n",
       "      <td>cnp01418335</td>\n",
       "      <td>0.111</td>\n",
       "    </tr>\n",
       "    <tr>\n",
       "      <th>3</th>\n",
       "      <td>cnp01287518</td>\n",
       "      <td>cnp01289912</td>\n",
       "      <td>0.111</td>\n",
       "    </tr>\n",
       "    <tr>\n",
       "      <th>4</th>\n",
       "      <td>cnp01287518</td>\n",
       "      <td>cnp01286053</td>\n",
       "      <td>0.111</td>\n",
       "    </tr>\n",
       "  </tbody>\n",
       "</table>\n",
       "</div>"
      ],
      "text/plain": [
       "             1            2      3\n",
       "0                                 \n",
       "0  cnp01287518  cnp01287801  0.111\n",
       "1  cnp01287518  cnp01417221  0.111\n",
       "2  cnp01287518  cnp01418335  0.111\n",
       "3  cnp01287518  cnp01289912  0.111\n",
       "4  cnp01287518  cnp01286053  0.111"
      ]
     },
     "execution_count": 48,
     "metadata": {},
     "output_type": "execute_result"
    }
   ],
   "source": [
    "with open(j2e.config.o, \"r\", encoding=j2e.config.encoding) as f:\n",
    "    df = pd.read_csv(f, sep=j2e.config.csv_sep, header=None, index_col=0)\n",
    "    \n",
    "df.head()"
   ]
  },
  {
   "cell_type": "markdown",
   "id": "f45f2d90",
   "metadata": {},
   "source": [
    "We can count how often the custom similarity function returned 0.111 and 0.99, respectively:"
   ]
  },
  {
   "cell_type": "code",
   "execution_count": 49,
   "id": "cdba8565",
   "metadata": {},
   "outputs": [
    {
     "data": {
      "text/plain": [
       "664824"
      ]
     },
     "execution_count": 49,
     "metadata": {},
     "output_type": "execute_result"
    }
   ],
   "source": [
    "df[df[3] == 0.111].shape[0]"
   ]
  },
  {
   "cell_type": "code",
   "execution_count": 50,
   "id": "498b9521",
   "metadata": {},
   "outputs": [
    {
     "data": {
      "text/plain": [
       "12042"
      ]
     },
     "execution_count": 50,
     "metadata": {},
     "output_type": "execute_result"
    }
   ],
   "source": [
    "df[df[3] == 0.99].shape[0]"
   ]
  },
  {
   "cell_type": "markdown",
   "id": "a961ab02",
   "metadata": {},
   "source": [
    "Just for fun, let's test if all combinations of two nodes were considered in similarity calculation:"
   ]
  },
  {
   "cell_type": "code",
   "execution_count": 51,
   "id": "a2f03771",
   "metadata": {},
   "outputs": [],
   "source": [
    "from scipy.special import binom\n",
    "\n",
    "# get number of input data sets\n",
    "with open(j2e.config.i, \"r\", encoding=j2e.config.encoding) as f:\n",
    "    d = json.load(f)\n",
    "size_input = len(d.keys())\n",
    "\n",
    "# get number of combinations\n",
    "combinations = binom(size_input, 2)\n",
    "\n",
    "# check if result similarity file has as many rows as possible combinations exist\n",
    "assert (\n",
    "    df[df[3] == 0.111].shape[0] + df[df[3] == 0.99].shape[0]\n",
    ") == combinations"
   ]
  },
  {
   "cell_type": "markdown",
   "id": "5e674fe8",
   "metadata": {},
   "source": [
    "No output message means: Everything is perfect."
   ]
  },
  {
   "cell_type": "markdown",
   "id": "3fbe380f",
   "metadata": {},
   "source": [
    "-----"
   ]
  },
  {
   "cell_type": "markdown",
   "id": "a0932ce0",
   "metadata": {},
   "source": [
    "## Iterating over multiple files"
   ]
  },
  {
   "cell_type": "markdown",
   "id": "f0bd9cf2",
   "metadata": {},
   "source": [
    "There is one use case where the configuration parameter _name_ is needed.\n",
    "\n",
    "__name__ (str): Name for single conversion step\n",
    "* If the conversion from JSON to an edge list representation is conducted on more than one file, you somehow have to make sure that for each file a separate similarity file (and probably graph corpus) is created. Using the _name_ parameter allows you to assign each file a unique identifier. For example, if you created your input JSON files using `bibliometa.conversion.CSV2JSON`, the year information inside the output file names may be used as unique identifier for the JSON2EdgeList conversion.\n",
    "\n",
    "We start by creating a new _JSON2EdgeList_ object:"
   ]
  },
  {
   "cell_type": "code",
   "execution_count": 52,
   "id": "7146c8ab",
   "metadata": {},
   "outputs": [
    {
     "data": {
      "text/plain": [
       "('i', None)\n",
       "('o', None)\n",
       "('create_corpus', False)\n",
       "('corpus', None)\n",
       "('name', '')\n",
       "('fields', None)\n",
       "('swap', False)\n",
       "('sim_functions', None)\n",
       "('archive', True)\n",
       "('archive_ext', '.tar.gz')\n",
       "('csv_sep', '\\t')\n",
       "('log', None)\n",
       "('log_level_std', 'INFO')\n",
       "('log_level_file', 'DEBUG')\n",
       "('verbose', False)\n",
       "('encoding', 'utf-8')"
      ]
     },
     "execution_count": 52,
     "metadata": {},
     "output_type": "execute_result"
    }
   ],
   "source": [
    "j2e = JSON2EdgeList()\n",
    "j2e"
   ]
  },
  {
   "cell_type": "markdown",
   "id": "c9c57d5a",
   "metadata": {},
   "source": [
    "We add our similarity functions:"
   ]
  },
  {
   "cell_type": "code",
   "execution_count": 53,
   "id": "3aecccbe",
   "metadata": {},
   "outputs": [],
   "source": [
    "SIM_FUNCTIONS = [\n",
    "    {\"name\": \"mint_1\",\n",
    "     \"function\": Similarity.Functions.mint,\n",
    "     \"args\": {\n",
    "         \"f\": lambda a, b: len(list(a.intersection(b))),\n",
    "         \"t\": 1}\n",
    "     },\n",
    "    {\"name\": \"jacc\",\n",
    "     \"function\": Similarity.Functions.jaccard,\n",
    "     \"args\": {\n",
    "         \"f\": lambda a: round(a, 4),\n",
    "         \"t\": 0}\n",
    "     },\n",
    "    {\"name\": \"ovlp\",\n",
    "     \"function\": Similarity.Functions.overlap,\n",
    "     \"args\": {\n",
    "         \"f\": lambda a: round(a, 4),\n",
    "         \"t\": 0}\n",
    "     },\n",
    "]"
   ]
  },
  {
   "cell_type": "markdown",
   "id": "61f86466",
   "metadata": {},
   "source": [
    "In the next step, we iterate over multiple files in a folder. It is especially important that we take care to set the _name_ configuration parameter with a unique value in each iteration and that the _i_ parameter uses the single files of the iteration (and not always the same one). The file names of the output, graph corpus and log files are generated automatically if the _name_ parameter is set, i.e., the _name_ is appended to their file names to make sure each iteration produces a new and unique similarity/corpus/log file.\n",
    "\n",
    "Alternatively, you could use a different value for the _o_ and _corpus_ parameter in each iteration.\n",
    "\n",
    "We set _swap_ == True to get meaningful graphs that can be visualized in one of the next tutorials (04-visualization). This will result in cities as nodes; edges will be drawn between similar cities (i.e., cities that appear in the same data set)."
   ]
  },
  {
   "cell_type": "code",
   "execution_count": 54,
   "id": "66e0f52b",
   "metadata": {},
   "outputs": [
    {
     "data": {
      "application/vnd.jupyter.widget-view+json": {
       "model_id": "b9955bd181b64341a8fb3c73152e159a",
       "version_major": 2,
       "version_minor": 0
      },
      "text/plain": [
       "  0%|          | 0/544 [00:00<?, ?it/s]"
      ]
     },
     "metadata": {},
     "output_type": "display_data"
    },
    {
     "data": {
      "application/vnd.jupyter.widget-view+json": {
       "model_id": "a14d645dfbdc443c94dcb2642ac67519",
       "version_major": 2,
       "version_minor": 0
      },
      "text/plain": [
       "  0%|          | 0/14 [00:00<?, ?it/s]"
      ]
     },
     "metadata": {},
     "output_type": "display_data"
    },
    {
     "data": {
      "application/vnd.jupyter.widget-view+json": {
       "model_id": "1cec8cd6710547a3bb3e097e8e0d415e",
       "version_major": 2,
       "version_minor": 0
      },
      "text/plain": [
       "  0%|          | 0/563 [00:00<?, ?it/s]"
      ]
     },
     "metadata": {},
     "output_type": "display_data"
    },
    {
     "data": {
      "application/vnd.jupyter.widget-view+json": {
       "model_id": "48e6a872fc3d443d973d813c4bc58608",
       "version_major": 2,
       "version_minor": 0
      },
      "text/plain": [
       "  0%|          | 0/15 [00:00<?, ?it/s]"
      ]
     },
     "metadata": {},
     "output_type": "display_data"
    },
    {
     "data": {
      "application/vnd.jupyter.widget-view+json": {
       "model_id": "8f8cee1b03864d56bd8132b5e4fab8a0",
       "version_major": 2,
       "version_minor": 0
      },
      "text/plain": [
       "  0%|          | 0/552 [00:00<?, ?it/s]"
      ]
     },
     "metadata": {},
     "output_type": "display_data"
    },
    {
     "data": {
      "application/vnd.jupyter.widget-view+json": {
       "model_id": "3bcf4ff848d54ba5b13df9848636ad43",
       "version_major": 2,
       "version_minor": 0
      },
      "text/plain": [
       "  0%|          | 0/15 [00:00<?, ?it/s]"
      ]
     },
     "metadata": {},
     "output_type": "display_data"
    }
   ],
   "source": [
    "j2e = JSON2EdgeList()\n",
    "\n",
    "# iterate over files in folder\n",
    "for root, dirs, files in os.walk(os.path.dirname(\"../data/examples/multiple_files/\")):\n",
    "    for file in files:\n",
    "        filename = os.path.splitext(file)[0]\n",
    "        j2e.set_config(i=root + os.sep + file,\n",
    "                       o=f\"../data/output/similarity/similarity_{filename}.csv\",\n",
    "                       corpus=f\"../data/output/graph_corpus/graph_corpus_{filename}.json\",\n",
    "                       create_corpus=True,\n",
    "                       name=filename,\n",
    "                       fields=[\n",
    "                           (\"515\", \"a\"),\n",
    "                       ],\n",
    "                       swap=True,\n",
    "                       sim_functions=SIM_FUNCTIONS,\n",
    "                       log=f\"../data/logs/json2edgelist_{filename}.out\"\n",
    "                      ).start()"
   ]
  },
  {
   "cell_type": "markdown",
   "id": "53cbd5f3",
   "metadata": {},
   "source": [
    "Looking into the folder for similarity, graph corpus, and log files, we see that the files were created in a correct manner:"
   ]
  },
  {
   "cell_type": "code",
   "execution_count": 55,
   "id": "7db969b7",
   "metadata": {},
   "outputs": [
    {
     "data": {
      "text/plain": [
       "['similarity_demo_1710_demo_1710.csv',\n",
       " 'similarity.csv',\n",
       " 'similarity_demo_1720_demo_1720.csv',\n",
       " 'similarity_demo_1700_demo_1700.csv']"
      ]
     },
     "execution_count": 55,
     "metadata": {},
     "output_type": "execute_result"
    }
   ],
   "source": [
    "[x for x in os.listdir(os.path.dirname(j2e.config.o)) if not x.endswith(\".tar.gz\")]"
   ]
  },
  {
   "cell_type": "code",
   "execution_count": 56,
   "id": "5104935e",
   "metadata": {},
   "outputs": [
    {
     "data": {
      "text/plain": [
       "['graph_corpus_demo_1710_demo_1710.json',\n",
       " 'graph_corpus_demo_1700_demo_1700.json',\n",
       " 'graph_corpus.json',\n",
       " 'graph_corpus_demo_1720_demo_1720.json']"
      ]
     },
     "execution_count": 56,
     "metadata": {},
     "output_type": "execute_result"
    }
   ],
   "source": [
    "[x for x in os.listdir(os.path.dirname(j2e.config.corpus)) if not x.endswith(\".tar.gz\")]"
   ]
  },
  {
   "cell_type": "code",
   "execution_count": 57,
   "id": "3f490280",
   "metadata": {},
   "outputs": [
    {
     "data": {
      "text/plain": [
       "['json2edgelist_demo_1710.out',\n",
       " 'json2edgelist_demo_1700.out',\n",
       " 'json2edgelist_demo_progress.out',\n",
       " 'csv2json_demo.out',\n",
       " 'json2edgelist_demo.out',\n",
       " 'json2edgelist_demo_1700_demo_1700_progress.out',\n",
       " 'json2edgelist_demo_1710_demo_1710_progress.out',\n",
       " 'json2edgelist_demo_1720_demo_1720_progress.out',\n",
       " 'json2edgelist_demo_1720.out']"
      ]
     },
     "execution_count": 57,
     "metadata": {},
     "output_type": "execute_result"
    }
   ],
   "source": [
    "[x for x in os.listdir(os.path.dirname(j2e.config.log)) if not x.endswith(\".tar.gz\")]"
   ]
  },
  {
   "cell_type": "markdown",
   "id": "cd829ebb",
   "metadata": {},
   "source": [
    "-----"
   ]
  }
 ],
 "metadata": {
  "kernelspec": {
   "display_name": "Python 3 (ipykernel)",
   "language": "python",
   "name": "python3"
  },
  "language_info": {
   "codemirror_mode": {
    "name": "ipython",
    "version": 3
   },
   "file_extension": ".py",
   "mimetype": "text/x-python",
   "name": "python",
   "nbconvert_exporter": "python",
   "pygments_lexer": "ipython3",
   "version": "3.8.10"
  }
 },
 "nbformat": 4,
 "nbformat_minor": 5
}
