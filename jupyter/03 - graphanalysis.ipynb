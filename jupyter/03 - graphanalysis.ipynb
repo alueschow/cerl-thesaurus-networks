{
 "cells": [
  {
   "cell_type": "markdown",
   "id": "40496afc",
   "metadata": {},
   "source": [
    "# Tutorial: GraphAnalysis"
   ]
  },
  {
   "cell_type": "markdown",
   "id": "88a5bcc0",
   "metadata": {},
   "source": [
    "The _GraphAnalysis_ class is used to analyse graph data.\n",
    "\n",
    "Author: Andreas Lüschow\n",
    "\n",
    "Last updated: 2021/07/28"
   ]
  },
  {
   "cell_type": "markdown",
   "id": "fe83fbb6",
   "metadata": {},
   "source": [
    "-----"
   ]
  },
  {
   "cell_type": "markdown",
   "id": "1bc6169a",
   "metadata": {},
   "source": [
    "## Import"
   ]
  },
  {
   "cell_type": "markdown",
   "id": "dfdef7da",
   "metadata": {},
   "source": [
    "Import the appropriate class from __Bibliometa__:"
   ]
  },
  {
   "cell_type": "code",
   "execution_count": 1,
   "id": "c81cbd3a",
   "metadata": {},
   "outputs": [],
   "source": [
    "from bibliometa.graph.analysis import GraphAnalysis"
   ]
  },
  {
   "cell_type": "markdown",
   "id": "1aad4d46",
   "metadata": {},
   "source": [
    "As you can see from the following output, the _CSV2JSON_ class has a lot of built-in functions:"
   ]
  },
  {
   "cell_type": "code",
   "execution_count": 2,
   "id": "70b521b8",
   "metadata": {},
   "outputs": [
    {
     "data": {
      "text/plain": [
       "['__abstractmethods__',\n",
       " '__class__',\n",
       " '__delattr__',\n",
       " '__dict__',\n",
       " '__dir__',\n",
       " '__doc__',\n",
       " '__eq__',\n",
       " '__format__',\n",
       " '__ge__',\n",
       " '__getattribute__',\n",
       " '__gt__',\n",
       " '__hash__',\n",
       " '__init__',\n",
       " '__init_subclass__',\n",
       " '__le__',\n",
       " '__lt__',\n",
       " '__module__',\n",
       " '__ne__',\n",
       " '__new__',\n",
       " '__reduce__',\n",
       " '__reduce_ex__',\n",
       " '__repr__',\n",
       " '__setattr__',\n",
       " '__sizeof__',\n",
       " '__slots__',\n",
       " '__str__',\n",
       " '__subclasshook__',\n",
       " '__weakref__',\n",
       " '_abc_impl',\n",
       " '_avg_degree',\n",
       " '_avg_shortest_path',\n",
       " '_clique_number',\n",
       " '_component_count',\n",
       " '_degree_centrality',\n",
       " '_degree_distribution',\n",
       " '_density',\n",
       " '_diameter',\n",
       " '_edge_count',\n",
       " '_global_cluster_coefficient',\n",
       " '_local_cluster_coefficient',\n",
       " '_max_component',\n",
       " '_node_count',\n",
       " '_nr_of_cliques',\n",
       " '_top_dc_nodes',\n",
       " '_update_config',\n",
       " 'get_config',\n",
       " 'set_config',\n",
       " 'start']"
      ]
     },
     "execution_count": 2,
     "metadata": {},
     "output_type": "execute_result"
    }
   ],
   "source": [
    "dir(GraphAnalysis)"
   ]
  },
  {
   "cell_type": "markdown",
   "id": "a6684476",
   "metadata": {},
   "source": [
    "We are only interested in the public methods, so let's have a look at them:"
   ]
  },
  {
   "cell_type": "code",
   "execution_count": 3,
   "id": "bf74f6bf",
   "metadata": {},
   "outputs": [
    {
     "data": {
      "text/plain": [
       "['get_config', 'set_config', 'start']"
      ]
     },
     "execution_count": 3,
     "metadata": {},
     "output_type": "execute_result"
    }
   ],
   "source": [
    "[m for m in dir(GraphAnalysis) if not m.startswith('_')]"
   ]
  },
  {
   "cell_type": "markdown",
   "id": "72f4a37a",
   "metadata": {},
   "source": [
    "The usage of _GraphAnalysis_ class is quite simple: There are two methods to work with the class configuration, and only one method to actually start the conversion process.\n",
    "\n",
    "If you need to get familiar with setting or getting configuration from a _GraphAnalysis_ object, read the tutorials about _CSV2JSON_ or _JSON2EdgeList_. Handling configuration parameters is explained in detail there."
   ]
  },
  {
   "cell_type": "markdown",
   "id": "b1aa16af",
   "metadata": {},
   "source": [
    "-----"
   ]
  },
  {
   "cell_type": "markdown",
   "id": "79b28ccc",
   "metadata": {},
   "source": [
    "## Starting the graph analysis"
   ]
  },
  {
   "cell_type": "markdown",
   "id": "878810bc",
   "metadata": {},
   "source": [
    "First of all, we need to create a GraphAnalysis object and set some configuration parameters:"
   ]
  },
  {
   "cell_type": "code",
   "execution_count": 4,
   "id": "bfb2bc5e",
   "metadata": {},
   "outputs": [
    {
     "data": {
      "text/plain": [
       "('i', None)\n",
       "('o', None)\n",
       "('img', None)\n",
       "('create_graphml', False)\n",
       "('graphml', None)\n",
       "('n', None)\n",
       "('e', None)\n",
       "('sim', None)\n",
       "('sim_functions', [])\n",
       "('weighted', False)\n",
       "('t', 0)\n",
       "('reload', True)\n",
       "('name', '')\n",
       "('chunksize', 1000000)\n",
       "('csv_sep', '\\t')\n",
       "('log', None)\n",
       "('log_level_std', 'INFO')\n",
       "('log_level_file', 'DEBUG')\n",
       "('verbose', False)\n",
       "('encoding', 'utf-8')\n",
       "('config_id', 'None_None_None_0')"
      ]
     },
     "execution_count": 4,
     "metadata": {},
     "output_type": "execute_result"
    }
   ],
   "source": [
    "ga = GraphAnalysis()\n",
    "ga.get_config()"
   ]
  },
  {
   "cell_type": "markdown",
   "id": "3bea8d08",
   "metadata": {},
   "source": [
    "As you can see, some of the configuration parameters are undefined. That's why we need to set them in advance:"
   ]
  },
  {
   "cell_type": "code",
   "execution_count": 5,
   "id": "e973b32c",
   "metadata": {},
   "outputs": [
    {
     "data": {
      "text/plain": [
       "('i', '../data/examples/similarity.tar.gz')\n",
       "('o', '../data/output/graph_analysis/demo.txt')\n",
       "('img', '../data/output/img/')\n",
       "('create_graphml', False)\n",
       "('graphml', None)\n",
       "('n', 'cities')\n",
       "('e', 'similarity')\n",
       "('sim', 'mint_1')\n",
       "('sim_functions', ['mint_1', 'jacc', 'ovlp'])\n",
       "('weighted', True)\n",
       "('t', 0)\n",
       "('reload', True)\n",
       "('name', '')\n",
       "('chunksize', 1000000)\n",
       "('csv_sep', '\\t')\n",
       "('log', '../data/logs/graphanalysis.out')\n",
       "('log_level_std', 'INFO')\n",
       "('log_level_file', 'DEBUG')\n",
       "('verbose', False)\n",
       "('encoding', 'utf-8')\n",
       "('config_id', 'cities_similarity_mint_1_0')"
      ]
     },
     "execution_count": 5,
     "metadata": {},
     "output_type": "execute_result"
    }
   ],
   "source": [
    "ga.config.i = \"../data/examples/similarity.tar.gz\"\n",
    "ga.config.o = \"../data/output/graph_analysis/demo.txt\"\n",
    "ga.config.img = \"../data/output/img/\"\n",
    "ga.config.n = \"cities\"\n",
    "ga.config.e = \"similarity\"\n",
    "ga.config.sim = \"mint_1\"\n",
    "ga.config.sim_functions = [\"mint_1\", \"jacc\", \"ovlp\"]\n",
    "ga.config.weighted = True\n",
    "ga.config.t = 0  # threshold\n",
    "ga.config.log = \"../data/logs/graphanalysis.out\"\n",
    "ga.get_config()"
   ]
  },
  {
   "cell_type": "markdown",
   "id": "8729df9e",
   "metadata": {},
   "source": [
    "__i__ (str): Input similarity file\n",
    "* If configuration parameter _reload_ is set to True (which it is by default, for other use cases see further below in this tutorial), the content from this similarity file will be used to create a graph.\n",
    "\n",
    "__o__ (str): Output graph analysis file\n",
    "* Path to the output text file where information from graph analysis will be stored.\n",
    "\n",
    "__img__ (str): Location of output images\n",
    "* Path to folder where output images will be stored.\n",
    "\n",
    "__n__ (str): Name of nodes\n",
    "* Should be a short string since it is used to uniquely identify a graph analysis run (see _config_id_ below).\n",
    "\n",
    "__e__ (str): Name of edges\n",
    "* Should also be a short string since it is used to uniquely identify a graph analysis run (see _config_id_ below).\n",
    "\n",
    "__sim__ (str): Name of similarity function used\n",
    "* Similarity function that is read from the similarity file. Is also used in uniquely identifying a graph analysis run (see _config_id_ below).\n",
    "\n",
    "__sim_functions__ (list): List of similarity functions\n",
    "* A list of similarity functions in the same order as they appear in the input similarity file. This list is used to identify the appropriate column in the input data where the similarity function defined in parameter _sim_ can be found. \n",
    "\n",
    "__weighted__ (bool): If the similarity function creates weighted edges\n",
    "* Some graph analysis algorithms work differently on weighted/non-weighted edges.\n",
    "\n",
    "__t__ (int): Threshold of similarity function\n",
    "* This parameter defines whether only a subset of the edges found in the similarity file will be considered for graph creation, i.e., if only edges with a weight > t will be added to the graph.\n",
    "\n",
    "__csv_sep__ (str): CSV separator\n",
    "* CSV separator used in input similarity file\n",
    "\n",
    "__chunksize__ (int): Chunk size for large input files\n",
    "* If the input similarity file contains a lot of rows, it will be read in chunks. This parameter defines the size of a single chunk.\n",
    "\n",
    "Based on the information from parameters _n_, _e_, _sim_, and _t_, a configuration ID will be created automatically to identify a single configuration throughout program execution. This ID is added to the configuration and can thus be retrieved at any time from a GraphAnalysis object:"
   ]
  },
  {
   "cell_type": "code",
   "execution_count": 6,
   "id": "c8fad07e",
   "metadata": {},
   "outputs": [
    {
     "data": {
      "text/plain": [
       "('config_id', 'cities_similarity_mint_1_0')"
      ]
     },
     "execution_count": 6,
     "metadata": {},
     "output_type": "execute_result"
    }
   ],
   "source": [
    "ga.get_config(\"config_id\")"
   ]
  },
  {
   "cell_type": "markdown",
   "id": "09d0d4f7",
   "metadata": {},
   "source": [
    "Now we can start the graph analysis:"
   ]
  },
  {
   "cell_type": "code",
   "execution_count": 7,
   "id": "bfb6da1f",
   "metadata": {},
   "outputs": [
    {
     "data": {
      "application/vnd.jupyter.widget-view+json": {
       "model_id": "da00c145c3f44876b0af3fe4c3350761",
       "version_major": 2,
       "version_minor": 0
      },
      "text/plain": [
       "  0%|          | 0/9 [00:00<?, ?it/s]"
      ]
     },
     "metadata": {},
     "output_type": "display_data"
    }
   ],
   "source": [
    "ga.start()"
   ]
  },
  {
   "cell_type": "markdown",
   "id": "28be22f8",
   "metadata": {},
   "source": [
    "Since the configuration parameter _verbose_ is set to False (the default behaviour), no output was created on screen. However, the output files were created as we can check with a quick look into the appropriate files:"
   ]
  },
  {
   "cell_type": "code",
   "execution_count": 8,
   "id": "48ee9040",
   "metadata": {},
   "outputs": [
    {
     "data": {
      "text/plain": [
       "['2021-07-28T15:46:54.379525+0200 INFO Create graph from information in file ../data/examples/similarity.tar.gz.',\n",
       " '2021-07-28T15:46:54.392340+0200 INFO Import datasets ...',\n",
       " '2021-07-28T15:46:54.395444+0200 INFO Import finished!',\n",
       " '2021-07-28T15:46:54.405275+0200 INFO Graph creation finished.',\n",
       " '2021-07-28T15:46:54.405423+0200 INFO Start graph analysis for configuration cities_similarity_mint_1_0.',\n",
       " '2021-07-28T15:46:54.572205+0200 INFO Nodes: 308',\n",
       " '2021-07-28T15:46:54.573289+0200 INFO Edges: 330',\n",
       " '2021-07-28T15:46:54.573901+0200 INFO Components: 66',\n",
       " '2021-07-28T15:46:54.574004+0200 INFO Size of largest component: 146',\n",
       " '2021-07-28T15:46:54.574066+0200 INFO Average Degree: 1.0714285714285714',\n",
       " '2021-07-28T15:46:54.585602+0200 INFO Start plotting degree distributions.',\n",
       " '2021-07-28T15:46:56.546939+0200 INFO Finished plotting degree distributions.',\n",
       " '2021-07-28T15:46:56.547095+0200 INFO Getting top Degree Centrality nodes.',\n",
       " '2021-07-28T15:46:56.547565+0200 INFO Top 0 Degree Centrality node: 19, Leipzig',\n",
       " '2021-07-28T15:46:56.547638+0200 INFO Top 1 Degree Centrality node: 17, Erfurt',\n",
       " '2021-07-28T15:46:56.547696+0200 INFO Top 2 Degree Centrality node: 17, Wittenberg',\n",
       " '2021-07-28T15:46:56.547778+0200 INFO Top 3 Degree Centrality node: 11, Jena',\n",
       " '2021-07-28T15:46:56.547849+0200 INFO Top 4 Degree Centrality node: 11, Halle',\n",
       " '2021-07-28T15:46:56.548090+0200 INFO Calculating Degree Centrality distributions.',\n",
       " '2021-07-28T15:46:56.658717+0200 INFO Average degree centrality: 0.025249999999999998',\n",
       " '2021-07-28T15:46:56.658884+0200 INFO Minimum degree centrality: 0.0033',\n",
       " '2021-07-28T15:46:56.658971+0200 INFO Maximum degree centrality: 0.0619',\n",
       " '2021-07-28T15:46:56.659134+0200 INFO Stdev degree centrality: 0.017700258943491948',\n",
       " '2021-07-28T15:46:56.685933+0200 INFO Calculating local cluster coefficients.',\n",
       " '2021-07-28T15:46:56.841926+0200 INFO Average local cluster coefficient: 0.12088235294117645',\n",
       " '2021-07-28T15:46:56.842112+0200 INFO Minimum local cluster coefficient: 0.0',\n",
       " '2021-07-28T15:46:56.842202+0200 INFO Maximum local cluster coefficient: 0.3775',\n",
       " '2021-07-28T15:46:56.842329+0200 INFO Stdev local cluster coefficient: 0.10811653427066076',\n",
       " '2021-07-28T15:46:56.861823+0200 INFO Density: 0.006979990693345742',\n",
       " '2021-07-28T15:46:57.066581+0200 INFO Diameter: 11',\n",
       " '2021-07-28T15:46:57.473808+0200 INFO Average shortest path: 5.20207841284837',\n",
       " '2021-07-28T15:46:57.516467+0200 INFO Global clustering coefficient: 0.3010153213090369',\n",
       " '2021-07-28T15:46:57.519840+0200 INFO Graph clique number: 5',\n",
       " '2021-07-28T15:46:57.524370+0200 INFO Number of cliques: 200']"
      ]
     },
     "execution_count": 8,
     "metadata": {},
     "output_type": "execute_result"
    }
   ],
   "source": [
    "# log file\n",
    "with open(ga.config.log, \"r\", encoding=ga.config.encoding) as f:\n",
    "    log_text = f.read().splitlines()\n",
    "\n",
    "log_text"
   ]
  },
  {
   "cell_type": "code",
   "execution_count": 9,
   "id": "2d7b378a",
   "metadata": {},
   "outputs": [
    {
     "data": {
      "text/plain": [
       "['Nodes: 308',\n",
       " 'Edges: 330',\n",
       " 'Components: 66',\n",
       " 'Size of largest component: 146',\n",
       " 'Average Degree: 1.0714285714285714',\n",
       " \"Top degree centrality nodes: [(19, 'Leipzig'), (17, 'Erfurt'), (17, 'Wittenberg'), (11, 'Jena'), (11, 'Halle')]\",\n",
       " 'Average degree centrality: 0.025249999999999998',\n",
       " 'Minimum degree centrality: 0.0033',\n",
       " 'Maximum degree centrality: 0.0619',\n",
       " 'Stdev degree centrality: 0.017700258943491948',\n",
       " 'Average local cluster coefficient: 0.12088235294117645',\n",
       " 'Minimum local cluster coefficient: 0.0',\n",
       " 'Maximum local cluster coefficient: 0.3775',\n",
       " 'Stdev local cluster coefficient: 0.10811653427066076',\n",
       " 'Density: 0.006979990693345742',\n",
       " 'Diameter: 11',\n",
       " 'Average shortest path: 5.20207841284837',\n",
       " 'Global clustering coefficient: 0.3010153213090369',\n",
       " 'Graph clique number: 5',\n",
       " 'Number of cliques: 200']"
      ]
     },
     "execution_count": 9,
     "metadata": {},
     "output_type": "execute_result"
    }
   ],
   "source": [
    "# output text file\n",
    "with open(ga.config.o, \"r\", encoding=ga.config.encoding) as f:\n",
    "    o_text = f.read().splitlines()\n",
    "\n",
    "o_text"
   ]
  },
  {
   "cell_type": "code",
   "execution_count": 10,
   "id": "b3d614ef",
   "metadata": {},
   "outputs": [
    {
     "data": {
      "text/plain": [
       "['cities_similarity_mint_1_0_degree_histogram.png',\n",
       " 'cities_similarity_mint_1_0_degree_distribution.png',\n",
       " 'cities_similarity_mint_1_0_degree_density.png',\n",
       " 'cities_similarity_mint_1_0_degree_distribution_log-log.png',\n",
       " 'cities_similarity_mint_1_0_degree_centrality.png',\n",
       " 'cities_similarity_mint_1_0_local_cluster_coefficient.png']"
      ]
     },
     "execution_count": 10,
     "metadata": {},
     "output_type": "execute_result"
    }
   ],
   "source": [
    "# output image files\n",
    "import os \n",
    "\n",
    "os.listdir(ga.config.img)"
   ]
  },
  {
   "cell_type": "markdown",
   "id": "af5cfadd",
   "metadata": {},
   "source": [
    "-----"
   ]
  },
  {
   "cell_type": "markdown",
   "id": "23a7d1a3",
   "metadata": {},
   "source": [
    "## GraphML files"
   ]
  },
  {
   "cell_type": "markdown",
   "id": "5857e4a0",
   "metadata": {},
   "source": [
    "If you want the script to read graph information from a similarity file and create a GraphML file afterwards, use the _create_graphml_ parameter in the configuration:\n",
    "\n",
    "__create_graphml__ (bool): If a GraphML representation will be created\n",
    "* If set to True, the graph created from a similarity file will be written to a GraphML file. (Does only take effect if configuration parameter _reload_ is set to True, see below).\n",
    "\n",
    "__graphml__ (str): Output GraphML file\n",
    "* Path to GraphML file that will be stored after reading a graph from a similarity file. Is only used if _create_ == True.\n",
    "\n",
    "Saving your graph in GraphML format has some advantages compared to a similarity list. First of all, you can use your data in other applications that support GraphML (e.g., Gephi). But reading a graph from a GraphML is also considerably faster than loading it each time from a similarity file row by row. This is especially true for large files."
   ]
  },
  {
   "cell_type": "code",
   "execution_count": 12,
   "id": "697fcc1d",
   "metadata": {},
   "outputs": [],
   "source": [
    "ga.config.create_graphml = True\n",
    "ga.config.graphml = \"../data/output/graphml/demo.graphml\""
   ]
  },
  {
   "cell_type": "code",
   "execution_count": 13,
   "id": "09952af3",
   "metadata": {},
   "outputs": [
    {
     "data": {
      "application/vnd.jupyter.widget-view+json": {
       "model_id": "7a159fa3cf8343e782cb1dd12f034c4f",
       "version_major": 2,
       "version_minor": 0
      },
      "text/plain": [
       "  0%|          | 0/9 [00:00<?, ?it/s]"
      ]
     },
     "metadata": {},
     "output_type": "display_data"
    }
   ],
   "source": [
    "ga.start()"
   ]
  },
  {
   "cell_type": "markdown",
   "id": "0c1d816a",
   "metadata": {},
   "source": [
    "Now let's see what these parameters created:"
   ]
  },
  {
   "cell_type": "code",
   "execution_count": 14,
   "id": "c1d1d815",
   "metadata": {},
   "outputs": [
    {
     "data": {
      "text/plain": [
       "['demo.graphml']"
      ]
     },
     "execution_count": 14,
     "metadata": {},
     "output_type": "execute_result"
    }
   ],
   "source": [
    "# check if GraphML file is there\n",
    "os.listdir(os.path.dirname(ga.config.graphml))"
   ]
  },
  {
   "cell_type": "code",
   "execution_count": 15,
   "id": "39bfaac5",
   "metadata": {},
   "outputs": [
    {
     "data": {
      "text/plain": [
       "'<?xml version=\\'1.0\\' encoding=\\'utf-8\\'?>\\n<graphml xmlns=\"http://graphml.graphdrawing.org/xmlns\" xmlns:xsi=\"http://www.w3.org/2001/XMLSchema-instance\" xsi:schemaLocation=\"http://graphml.graphdrawing.org/xmlns http://graphml.graphdrawing.org/xmlns/1.0/graphml.xsd\">\\n  <key id=\"d0\" for=\"edge\" attr.name=\"weight\" attr.type=\"double\" />\\n  <graph edgedefault=\"undirected\">\\n    <node id=\"Mühlhausen\" />\\n    <node id=\"Königsberg\" />\\n    <node id=\"Danzig\" />\\n    <node id=\"Northeim\" />\\n    <node id=\"Erfurt\" />\\n    <node id=\"London\" />\\n    <node id=\"Dieppe\" />\\n    <node id=\"Amsterdam\" />\\n    <node id=\"Berlin\" />\\n    <node id=\"Charenton-le-Pont (Charenton)\" />\\n    <node id=\"Plan\" />\\n    <node id=\"Thumsenreuth\" />\\n    <node id=\"Arnstadt\" />\\n    <node id=\"Naumburg\" />\\n    <node id=\"Jena\" />\\n    <node id=\"Feucht\" />\\n    <node id=\"Röthenbach\" />\\n    <node id=\"Altdorf\" />\\n    <node id=\"Prag\" />\\n    <node id=\"Olmütz\" />\\n    <node id=\"Garsten\" />\\n    <node id=\"Salzburg\" />\\n    <node id=\"Zerbst/Anhalt\" />\\n    <n'"
      ]
     },
     "execution_count": 15,
     "metadata": {},
     "output_type": "execute_result"
    }
   ],
   "source": [
    "# read beginning of GraphML file as text\n",
    "with open(ga.config.graphml, \"r\", encoding=ga.config.encoding) as f:\n",
    "    graphml = f.read()\n",
    "    \n",
    "graphml[:1000]"
   ]
  },
  {
   "cell_type": "markdown",
   "id": "962f8db4",
   "metadata": {},
   "source": [
    "If a GraphML file for a specific configuration is already available, you can change the default configuration for parameter _reload_ to False. By this, the similarity file will not be used to create a graph but the GraphML file will be loaded instead.\n",
    "\n",
    "We can see this behaviour by asking for verbose output. Have a closer look at the first few log messages:"
   ]
  },
  {
   "cell_type": "code",
   "execution_count": 16,
   "id": "4ad3d74e",
   "metadata": {},
   "outputs": [
    {
     "name": "stderr",
     "output_type": "stream",
     "text": [
      "2021-07-28 15:49:11.707 | INFO     | bibliometa.graph.utils:load_graph:49 - Import from .graphml file ../data/output/graphml/demo.graphml.\n",
      "2021-07-28 15:49:11.757 | INFO     | bibliometa.graph.utils:load_graph:51 - Import finished.\n",
      "2021-07-28 15:49:11.760 | INFO     | bibliometa.graph.analysis:start:82 - Start graph analysis for configuration cities_similarity_mint_1_0.\n"
     ]
    },
    {
     "data": {
      "application/vnd.jupyter.widget-view+json": {
       "model_id": "a19f951230854c939d0df85879e2b387",
       "version_major": 2,
       "version_minor": 0
      },
      "text/plain": [
       "  0%|          | 0/9 [00:00<?, ?it/s]"
      ]
     },
     "metadata": {},
     "output_type": "display_data"
    },
    {
     "name": "stderr",
     "output_type": "stream",
     "text": [
      "2021-07-28 15:49:11.935 | INFO     | bibliometa.graph.analysis:start:99 - Nodes: 308\n",
      "2021-07-28 15:49:11.942 | INFO     | bibliometa.graph.analysis:start:102 - Edges: 330\n",
      "2021-07-28 15:49:11.943 | INFO     | bibliometa.graph.analysis:start:105 - Components: 66\n",
      "2021-07-28 15:49:11.946 | INFO     | bibliometa.graph.analysis:start:108 - Size of largest component: 146\n",
      "2021-07-28 15:49:11.947 | INFO     | bibliometa.graph.analysis:start:111 - Average Degree: 1.0714285714285714\n",
      "2021-07-28 15:49:11.958 | INFO     | bibliometa.graph.analysis:start:117 - Start plotting degree distributions.\n"
     ]
    },
    {
     "data": {
      "image/png": "[encoded data removed]",
      "text/plain": [
       "<Figure size 720x432 with 1 Axes>"
      ]
     },
     "metadata": {
      "needs_background": "light"
     },
     "output_type": "display_data"
    },
    {
     "data": {
      "image/png": "[encoded data removed]",
      "text/plain": [
       "<Figure size 720x432 with 1 Axes>"
      ]
     },
     "metadata": {
      "needs_background": "light"
     },
     "output_type": "display_data"
    },
    {
     "data": {
      "image/png": "[encoded data removed]",
      "text/plain": [
       "<Figure size 720x432 with 1 Axes>"
      ]
     },
     "metadata": {
      "needs_background": "light"
     },
     "output_type": "display_data"
    },
    {
     "data": {
      "image/png": "[encoded data removed]",
      "text/plain": [
       "<Figure size 720x432 with 1 Axes>"
      ]
     },
     "metadata": {
      "needs_background": "light"
     },
     "output_type": "display_data"
    },
    {
     "name": "stderr",
     "output_type": "stream",
     "text": [
      "2021-07-28 15:49:14.444 | INFO     | bibliometa.graph.analysis:start:119 - Finished plotting degree distributions.\n",
      "2021-07-28 15:49:14.456 | INFO     | bibliometa.graph.analysis:start:122 - Getting top Degree Centrality nodes.\n",
      "2021-07-28 15:49:14.459 | INFO     | bibliometa.graph.analysis:_top_dc_nodes:357 - Top 0 Degree Centrality node: 19, Leipzig\n",
      "2021-07-28 15:49:14.465 | INFO     | bibliometa.graph.analysis:_top_dc_nodes:357 - Top 1 Degree Centrality node: 17, Erfurt\n",
      "2021-07-28 15:49:14.470 | INFO     | bibliometa.graph.analysis:_top_dc_nodes:357 - Top 2 Degree Centrality node: 17, Wittenberg\n",
      "2021-07-28 15:49:14.471 | INFO     | bibliometa.graph.analysis:_top_dc_nodes:357 - Top 3 Degree Centrality node: 11, Jena\n",
      "2021-07-28 15:49:14.472 | INFO     | bibliometa.graph.analysis:_top_dc_nodes:357 - Top 4 Degree Centrality node: 11, Halle\n",
      "2021-07-28 15:49:14.474 | INFO     | bibliometa.graph.analysis:start:125 - Calculating Degree Centrality distributions.\n"
     ]
    },
    {
     "data": {
      "image/png": "[encoded data removed]",
      "text/plain": [
       "<Figure size 432x288 with 1 Axes>"
      ]
     },
     "metadata": {
      "needs_background": "light"
     },
     "output_type": "display_data"
    },
    {
     "name": "stderr",
     "output_type": "stream",
     "text": [
      "2021-07-28 15:49:14.794 | INFO     | bibliometa.graph.analysis:start:129 - Average degree centrality: 0.025249999999999998\n",
      "2021-07-28 15:49:14.797 | INFO     | bibliometa.graph.analysis:start:132 - Minimum degree centrality: 0.0033\n",
      "2021-07-28 15:49:14.800 | INFO     | bibliometa.graph.analysis:start:135 - Maximum degree centrality: 0.0619\n",
      "2021-07-28 15:49:14.805 | INFO     | bibliometa.graph.analysis:start:138 - Stdev degree centrality: 0.017700258943491948\n",
      "2021-07-28 15:49:14.821 | INFO     | bibliometa.graph.analysis:start:144 - Calculating local cluster coefficients.\n"
     ]
    },
    {
     "data": {
      "image/png": "[encoded data removed]",
      "text/plain": [
       "<Figure size 432x288 with 1 Axes>"
      ]
     },
     "metadata": {
      "needs_background": "light"
     },
     "output_type": "display_data"
    },
    {
     "name": "stderr",
     "output_type": "stream",
     "text": [
      "2021-07-28 15:49:15.208 | INFO     | bibliometa.graph.analysis:start:151 - Average local cluster coefficient: 0.12088235294117645\n",
      "2021-07-28 15:49:15.218 | INFO     | bibliometa.graph.analysis:start:154 - Minimum local cluster coefficient: 0.0\n",
      "2021-07-28 15:49:15.222 | INFO     | bibliometa.graph.analysis:start:157 - Maximum local cluster coefficient: 0.3775\n",
      "2021-07-28 15:49:15.224 | INFO     | bibliometa.graph.analysis:start:160 - Stdev local cluster coefficient: 0.10811653427066076\n",
      "2021-07-28 15:49:15.249 | INFO     | bibliometa.graph.analysis:start:168 - Density: 0.006979990693345742\n",
      "2021-07-28 15:49:15.651 | INFO     | bibliometa.graph.analysis:start:176 - Diameter: 11\n",
      "2021-07-28 15:49:16.289 | INFO     | bibliometa.graph.analysis:start:184 - Average shortest path: 5.20207841284837\n",
      "2021-07-28 15:49:16.344 | INFO     | bibliometa.graph.analysis:start:192 - Global clustering coefficient: 0.3010153213090369\n",
      "2021-07-28 15:49:16.367 | INFO     | bibliometa.graph.analysis:start:200 - Graph clique number: 5\n",
      "2021-07-28 15:49:16.388 | INFO     | bibliometa.graph.analysis:start:208 - Number of cliques: 200\n"
     ]
    }
   ],
   "source": [
    "ga.config.verbose = True\n",
    "ga.config.reload = False\n",
    "ga.start()"
   ]
  },
  {
   "cell_type": "markdown",
   "id": "55cf3a9d",
   "metadata": {},
   "source": [
    "And now compare to the log messages if _reload_ is set to True:"
   ]
  },
  {
   "cell_type": "code",
   "execution_count": 17,
   "id": "8d644eee",
   "metadata": {},
   "outputs": [
    {
     "name": "stderr",
     "output_type": "stream",
     "text": [
      "2021-07-28 15:49:22.334 | INFO     | bibliometa.graph.utils:load_graph:56 - Create graph from information in file ../data/examples/similarity.tar.gz.\n",
      "2021-07-28 15:49:22.342 | INFO     | bibliometa.graph.utils:read_file:81 - Import datasets ...\n",
      "2021-07-28 15:49:22.357 | INFO     | bibliometa.graph.utils:read_file:90 - Import finished!\n",
      "2021-07-28 15:49:22.362 | INFO     | bibliometa.graph.utils:read_file:105 - Saving graph as .graphml file ...\n",
      "2021-07-28 15:49:22.412 | INFO     | bibliometa.graph.utils:read_file:107 - Saved .graphml file successfully.\n",
      "2021-07-28 15:49:22.416 | INFO     | bibliometa.graph.utils:load_graph:58 - Graph creation finished.\n",
      "2021-07-28 15:49:22.418 | INFO     | bibliometa.graph.analysis:start:82 - Start graph analysis for configuration cities_similarity_mint_1_0.\n"
     ]
    },
    {
     "data": {
      "application/vnd.jupyter.widget-view+json": {
       "model_id": "d036bf73b28d4a6aaa73b51390f99cd9",
       "version_major": 2,
       "version_minor": 0
      },
      "text/plain": [
       "  0%|          | 0/9 [00:00<?, ?it/s]"
      ]
     },
     "metadata": {},
     "output_type": "display_data"
    },
    {
     "name": "stderr",
     "output_type": "stream",
     "text": [
      "2021-07-28 15:49:22.659 | INFO     | bibliometa.graph.analysis:start:99 - Nodes: 308\n",
      "2021-07-28 15:49:22.666 | INFO     | bibliometa.graph.analysis:start:102 - Edges: 330\n",
      "2021-07-28 15:49:22.666 | INFO     | bibliometa.graph.analysis:start:105 - Components: 66\n",
      "2021-07-28 15:49:22.672 | INFO     | bibliometa.graph.analysis:start:108 - Size of largest component: 146\n",
      "2021-07-28 15:49:22.677 | INFO     | bibliometa.graph.analysis:start:111 - Average Degree: 1.0714285714285714\n",
      "2021-07-28 15:49:22.687 | INFO     | bibliometa.graph.analysis:start:117 - Start plotting degree distributions.\n"
     ]
    },
    {
     "data": {
      "image/png": "[encoded data removed]",
      "text/plain": [
       "<Figure size 720x432 with 1 Axes>"
      ]
     },
     "metadata": {
      "needs_background": "light"
     },
     "output_type": "display_data"
    },
    {
     "data": {
      "image/png": "[encoded data removed]",
      "text/plain": [
       "<Figure size 720x432 with 1 Axes>"
      ]
     },
     "metadata": {
      "needs_background": "light"
     },
     "output_type": "display_data"
    },
    {
     "data": {
      "image/png": "[encoded data removed]",
      "text/plain": [
       "<Figure size 720x432 with 1 Axes>"
      ]
     },
     "metadata": {
      "needs_background": "light"
     },
     "output_type": "display_data"
    },
    {
     "data": {
      "image/png": "[encoded data removed]",
      "text/plain": [
       "<Figure size 720x432 with 1 Axes>"
      ]
     },
     "metadata": {
      "needs_background": "light"
     },
     "output_type": "display_data"
    },
    {
     "name": "stderr",
     "output_type": "stream",
     "text": [
      "2021-07-28 15:49:25.194 | INFO     | bibliometa.graph.analysis:start:119 - Finished plotting degree distributions.\n",
      "2021-07-28 15:49:25.205 | INFO     | bibliometa.graph.analysis:start:122 - Getting top Degree Centrality nodes.\n",
      "2021-07-28 15:49:25.210 | INFO     | bibliometa.graph.analysis:_top_dc_nodes:357 - Top 0 Degree Centrality node: 19, Leipzig\n",
      "2021-07-28 15:49:25.213 | INFO     | bibliometa.graph.analysis:_top_dc_nodes:357 - Top 1 Degree Centrality node: 17, Erfurt\n",
      "2021-07-28 15:49:25.216 | INFO     | bibliometa.graph.analysis:_top_dc_nodes:357 - Top 2 Degree Centrality node: 17, Wittenberg\n",
      "2021-07-28 15:49:25.218 | INFO     | bibliometa.graph.analysis:_top_dc_nodes:357 - Top 3 Degree Centrality node: 11, Jena\n",
      "2021-07-28 15:49:25.219 | INFO     | bibliometa.graph.analysis:_top_dc_nodes:357 - Top 4 Degree Centrality node: 11, Halle\n",
      "2021-07-28 15:49:25.227 | INFO     | bibliometa.graph.analysis:start:125 - Calculating Degree Centrality distributions.\n"
     ]
    },
    {
     "data": {
      "image/png": "[encoded data removed]",
      "text/plain": [
       "<Figure size 432x288 with 1 Axes>"
      ]
     },
     "metadata": {
      "needs_background": "light"
     },
     "output_type": "display_data"
    },
    {
     "name": "stderr",
     "output_type": "stream",
     "text": [
      "2021-07-28 15:49:25.508 | INFO     | bibliometa.graph.analysis:start:129 - Average degree centrality: 0.025249999999999998\n",
      "2021-07-28 15:49:25.511 | INFO     | bibliometa.graph.analysis:start:132 - Minimum degree centrality: 0.0033\n",
      "2021-07-28 15:49:25.520 | INFO     | bibliometa.graph.analysis:start:135 - Maximum degree centrality: 0.0619\n",
      "2021-07-28 15:49:25.524 | INFO     | bibliometa.graph.analysis:start:138 - Stdev degree centrality: 0.017700258943491948\n",
      "2021-07-28 15:49:25.534 | INFO     | bibliometa.graph.analysis:start:144 - Calculating local cluster coefficients.\n"
     ]
    },
    {
     "data": {
      "image/png": "[encoded data removed]",
      "text/plain": [
       "<Figure size 432x288 with 1 Axes>"
      ]
     },
     "metadata": {
      "needs_background": "light"
     },
     "output_type": "display_data"
    },
    {
     "name": "stderr",
     "output_type": "stream",
     "text": [
      "2021-07-28 15:49:25.864 | INFO     | bibliometa.graph.analysis:start:151 - Average local cluster coefficient: 0.12088235294117645\n",
      "2021-07-28 15:49:25.869 | INFO     | bibliometa.graph.analysis:start:154 - Minimum local cluster coefficient: 0.0\n",
      "2021-07-28 15:49:25.872 | INFO     | bibliometa.graph.analysis:start:157 - Maximum local cluster coefficient: 0.3775\n",
      "2021-07-28 15:49:25.879 | INFO     | bibliometa.graph.analysis:start:160 - Stdev local cluster coefficient: 0.10811653427066076\n",
      "2021-07-28 15:49:25.905 | INFO     | bibliometa.graph.analysis:start:168 - Density: 0.006979990693345742\n",
      "2021-07-28 15:49:26.147 | INFO     | bibliometa.graph.analysis:start:176 - Diameter: 11\n",
      "2021-07-28 15:49:26.573 | INFO     | bibliometa.graph.analysis:start:184 - Average shortest path: 5.20207841284837\n",
      "2021-07-28 15:49:26.609 | INFO     | bibliometa.graph.analysis:start:192 - Global clustering coefficient: 0.3010153213090369\n",
      "2021-07-28 15:49:26.633 | INFO     | bibliometa.graph.analysis:start:200 - Graph clique number: 5\n",
      "2021-07-28 15:49:26.654 | INFO     | bibliometa.graph.analysis:start:208 - Number of cliques: 200\n"
     ]
    }
   ],
   "source": [
    "ga.config.reload = True\n",
    "ga.start()"
   ]
  },
  {
   "cell_type": "markdown",
   "id": "0d7c7192",
   "metadata": {},
   "source": [
    "-----"
   ]
  },
  {
   "cell_type": "markdown",
   "id": "0548c5a9",
   "metadata": {},
   "source": [
    "## Logging, encoding, verbose"
   ]
  },
  {
   "cell_type": "markdown",
   "id": "a676117e",
   "metadata": {},
   "source": [
    "There are only a couple of configuration parameters left, let's have a look at them."
   ]
  },
  {
   "cell_type": "code",
   "execution_count": 18,
   "id": "e49bbb06",
   "metadata": {},
   "outputs": [
    {
     "data": {
      "text/plain": [
       "('i', '../data/examples/similarity.tar.gz')\n",
       "('o', '../data/output/graph_analysis/demo.txt')\n",
       "('img', '../data/output/img/')\n",
       "('create_graphml', True)\n",
       "('graphml', '../data/output/graphml/demo.graphml')\n",
       "('n', 'cities')\n",
       "('e', 'similarity')\n",
       "('sim', 'mint_1')\n",
       "('sim_functions', ['mint_1', 'jacc', 'ovlp'])\n",
       "('weighted', True)\n",
       "('t', 0)\n",
       "('reload', True)\n",
       "('name', '')\n",
       "('chunksize', 1000000)\n",
       "('csv_sep', '\\t')\n",
       "('log', '../data/logs/graphanalysis.out')\n",
       "('log_level_std', 'INFO')\n",
       "('log_level_file', 'DEBUG')\n",
       "('verbose', True)\n",
       "('encoding', 'utf-8')\n",
       "('config_id', 'cities_similarity_mint_1_0')"
      ]
     },
     "execution_count": 18,
     "metadata": {},
     "output_type": "execute_result"
    }
   ],
   "source": [
    "ga.get_config()"
   ]
  },
  {
   "cell_type": "markdown",
   "id": "9c3eb0c8",
   "metadata": {},
   "source": [
    "__log__ (str): Path to log file\n",
    "* The conversion process and its errors are documented in a log file. If _verbose_ == True (see below), the logging information is also shown on standard output if its level is _log_level_std_ or above.\n",
    "\n",
    "__log_level_std__ (str): Logging level considered for standard output\n",
    "* Only log messages with this level (or above) are shown on the standard output. This parameter has no effect if _verbose_ == False. Possible severity levels can be found in the documentation of the logging package `loguru`: https://loguru.readthedocs.io/en/stable/api/logger.html\n",
    "\n",
    "__log_level_file__ (str): Logging level considered for log file\n",
    "* Only log messages with this level (or above) are shown in the log file.\n",
    "\n",
    "__verbose__ (bool): Show detailed information on standard output\n",
    "* Whether logging information is not only written to the log file but also shown on the standard output.\n",
    "\n",
    "__encoding__ (str): File encoding\n",
    "* File encoding of input and output files. The default value is \"utf-8\" and there is usually no need to change this."
   ]
  },
  {
   "cell_type": "markdown",
   "id": "ab7e3605",
   "metadata": {},
   "source": [
    "-----"
   ]
  },
  {
   "cell_type": "markdown",
   "id": "af1f5085",
   "metadata": {},
   "source": [
    "## Iterating over multiple files"
   ]
  },
  {
   "cell_type": "markdown",
   "id": "1cac5aaf",
   "metadata": {},
   "source": [
    "We can iterate over a list of files to conduct graph analysis on all of them. Just make sure that the input, output, graphml (and log) files are named differently in each iteration.\n",
    "\n",
    "To ensure that each iteration gets its own configuration ID, you have to add the _name_ configuration parameter.\n",
    "\n",
    "__name__ (str): Unique identifier for each run in a loop\n",
    "* If the graph analysis is conducted on more than one file in a loop, you somehow have to make sure that for each file a separate output, graphml, and log file is created. The content of the _name_ parameter will be appended to all file names and thus helps to identify multiple files created with the same configuration."
   ]
  },
  {
   "cell_type": "code",
   "execution_count": 19,
   "id": "bd5c5532",
   "metadata": {},
   "outputs": [
    {
     "data": {
      "application/vnd.jupyter.widget-view+json": {
       "model_id": "46d3971d79a24ee685f4efb452423964",
       "version_major": 2,
       "version_minor": 0
      },
      "text/plain": [
       "  0%|          | 0/9 [00:00<?, ?it/s]"
      ]
     },
     "metadata": {},
     "output_type": "display_data"
    },
    {
     "data": {
      "application/vnd.jupyter.widget-view+json": {
       "model_id": "c378ca94c67a4876b212e9faee073f27",
       "version_major": 2,
       "version_minor": 0
      },
      "text/plain": [
       "  0%|          | 0/9 [00:00<?, ?it/s]"
      ]
     },
     "metadata": {},
     "output_type": "display_data"
    }
   ],
   "source": [
    "ga = GraphAnalysis()\n",
    "\n",
    "# iterate over .tar.gz archives in folder\n",
    "for root, dirs, files in os.walk(os.path.dirname(\"../data/examples/multiple_tar/\")):\n",
    "    for file in files:\n",
    "        filename = os.path.splitext(file)[0]\n",
    "        ga.set_config(i=root + os.sep + file,\n",
    "                      name=filename.split(\".\")[0],\n",
    "                      o=f\"../data/output/graph_analysis/graphanalysis.txt\",\n",
    "                      img=\"../data/output/img/\",\n",
    "                      create_graphml=True,\n",
    "                      graphml=f\"../data/output/graphml/{filename}.graphml\",\n",
    "                      n=\"cities\",\n",
    "                      e=\"similarity\",\n",
    "                      sim=\"mint_1\",\n",
    "                      sim_functions=[\"mint_1\", \"jacc\", \"ovlp\"],\n",
    "                      weighted=True,\n",
    "                      t=0,\n",
    "                      reload=True,\n",
    "                      log=f\"../data/logs/graphanalysis_{filename}.out\"\n",
    "                     ).start()"
   ]
  },
  {
   "cell_type": "markdown",
   "id": "eee043fa",
   "metadata": {},
   "source": [
    "-----"
   ]
  }
 ],
 "metadata": {
  "kernelspec": {
   "display_name": "Python 3 (ipykernel)",
   "language": "python",
   "name": "python3"
  },
  "language_info": {
   "codemirror_mode": {
    "name": "ipython",
    "version": 3
   },
   "file_extension": ".py",
   "mimetype": "text/x-python",
   "name": "python",
   "nbconvert_exporter": "python",
   "pygments_lexer": "ipython3",
   "version": "3.8.10"
  }
 },
 "nbformat": 4,
 "nbformat_minor": 5
}
